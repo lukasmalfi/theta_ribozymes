{
 "cells": [
  {
   "cell_type": "code",
   "execution_count": 39,
   "metadata": {},
   "outputs": [],
   "source": [
    "import os\n",
    "import subprocess\n",
    "import pandas as pd\n",
    "import numpy as np"
   ]
  },
  {
   "cell_type": "code",
   "execution_count": 40,
   "metadata": {},
   "outputs": [],
   "source": [
    "#lists all the files in the directory\n",
    "\n",
    "sequenc=[]\n",
    "dicti_r={}\n",
    "app=0\n",
    "for nu in range(1,61):\n",
    "    filenames_filt=[]\n",
    "    filenames=os.listdir(\"/mnt/mnemo6/lukas/Python/ribozymes/phage_samples/v4/rnarobo_results/\"+str(nu))\n",
    "    for fi in filenames:\n",
    "        if fi[-3:]==\"txt\":\n",
    "            filenames_filt.append(fi)\n",
    "\n",
    "    for filename in filenames_filt:\n",
    "       with open(os.path.join(\"/mnt/mnemo6/lukas/Python/ribozymes/phage_samples/v4/rnarobo_results/\"+str(nu), filename), 'r') as f: # open in readonly mode\n",
    "          # do your stuff\n",
    "            f_l=f.readlines()\n",
    "            #means at least one ribo was found\n",
    "            if len(f_l)>17:\n",
    "                for linea in f_l[11:-6]:\n",
    "                    #lets see if we want to append the sequence (means we found a ribo before)\n",
    "                    if app==1:\n",
    "                        sequenc.append(linea)\n",
    "                        app=0\n",
    "                    if linea[0]!=\"|\":\n",
    "                        #line=linea.replace(\".\",\"_\")\n",
    "                        line=linea.strip().split()\n",
    "                        try:\n",
    "                            if line[2] in dicti_r:\n",
    "                                dicti_r[line[2]].append(int(line[0]))\n",
    "                            else:\n",
    "                                dicti_r[line[2]]=[int(line[0])]\n",
    "                            #set the var to 1: add the next line to sequences\n",
    "                            app=1 \n",
    "                        except: \n",
    "                            pass\n",
    "                    \n",
    "\n"
   ]
  },
  {
   "cell_type": "code",
   "execution_count": 6,
   "metadata": {},
   "outputs": [],
   "source": [
    "allribos=pd.DataFrame(columns=[\"rnarobo_seq\"])"
   ]
  },
  {
   "cell_type": "code",
   "execution_count": 7,
   "metadata": {},
   "outputs": [],
   "source": [
    "allribos[\"rnarobo_seq\"]=sequenc"
   ]
  },
  {
   "cell_type": "code",
   "execution_count": 8,
   "metadata": {},
   "outputs": [
    {
     "data": {
      "text/plain": [
       "9344"
      ]
     },
     "execution_count": 8,
     "metadata": {},
     "output_type": "execute_result"
    }
   ],
   "source": [
    "#total number of all unique ribozymes in WGS databases\n",
    "len(allribos[\"rnarobo_seq\"].unique())"
   ]
  },
  {
   "cell_type": "code",
   "execution_count": 9,
   "metadata": {},
   "outputs": [],
   "source": [
    "df1str=allribos.to_csv(sep=\"\\t\",index=False)\n",
    "f= open(\"tables_and_results/all_WGS_ribos.csv\",\"w+\")\n",
    "f.write(df1str)\n",
    "f.close()"
   ]
  },
  {
   "cell_type": "code",
   "execution_count": 10,
   "metadata": {},
   "outputs": [],
   "source": [
    "#to create dicti of all trnascan files\n",
    "dicti={}\n",
    "for nu2 in range(1,61):\n",
    "    filenames=os.listdir(\"/mnt/mnemo6/lukas/Python/ribozymes/phage_samples/v4/trnascan/\"+str(nu2))\n",
    "    filenames_filt=[]\n",
    " \n",
    "    for fi in filenames:\n",
    "        if fi[-3:]==\"txt\":\n",
    "            filenames_filt.append(fi)\n",
    "    for filename in filenames_filt:\n",
    "        #with open(os.path.join(\"/mnt/mnemo6/lukas/Python/ribozymes/phage_samples/v3_T/trnascan/\"+str(nu), filename), 'r') as f: # open in readonly mode\n",
    "            f=open(\"/mnt/mnemo6/lukas/Python/ribozymes/phage_samples/v4/trnascan/\"+str(nu2)+\"/\"+filename, 'r')\n",
    "           \n",
    "          # do your stuff\n",
    "            f_l=f.readlines()\n",
    "         \n",
    "            #means at least one ribo was found\n",
    "            if len(f_l)>1:\n",
    "                for line in f_l[3:]:\n",
    "                #create a dictionary with seq name as key and the starting position as value\n",
    "                    line=line.strip().split()\n",
    "                    #line[0]=line[0].replace(\".\",\"_\")\n",
    "                    if line[0] in dicti:\n",
    "                        dicti[line[0]].append(int(line[3]))\n",
    "                    else:\n",
    "                        dicti[line[0]]=[int(line[3])]\n",
    "                    "
   ]
  },
  {
   "cell_type": "code",
   "execution_count": 11,
   "metadata": {},
   "outputs": [],
   "source": [
    "matching=[]\n",
    "for key in dicti_r:\n",
    "    if key in dicti:\n",
    "        for value in dicti_r[key]:\n",
    "            for value2 in dicti[key]:\n",
    "                if value-value2 in range(-5,6):\n",
    "                    matching.append([key,value,value2])"
   ]
  },
  {
   "cell_type": "code",
   "execution_count": 14,
   "metadata": {},
   "outputs": [],
   "source": [
    "newm=matching"
   ]
  },
  {
   "cell_type": "code",
   "execution_count": null,
   "metadata": {},
   "outputs": [],
   "source": [
    "#lets create the dataframe with all hits"
   ]
  },
  {
   "cell_type": "code",
   "execution_count": 16,
   "metadata": {},
   "outputs": [],
   "source": [
    "lets_do_this=pd.DataFrame(columns=[\"ID\",\"trna_nr\",\"trna_start\",\"trna_end\",\"trna_type\",\"codon\",\"ins_start\",\"ins_end\",\"trna_confidence\",\"psuedo\",\"rnarobo_start\",\"rnarobo_end\",\"rnarobo_seq\"])\n",
    "check=0\n",
    "oldn=\"\"\n",
    "duplicates=[]\n",
    "for nr in range(len(newm)):\n",
    "    #check: if old filename is still the same\n",
    "    match=newm[nr]\n",
    "    lin_df=\"\"\n",
    "    if match[0]!=oldn:\n",
    "        \n",
    "        \n",
    "        trnaf=open(\"/mnt/mnemo6/lukas/Python/ribozymes/phage_samples/v4/together/\"+match[0].split(\".\")[0]+\"trna_result.txt\")\n",
    "        trna=trnaf.readlines()\n",
    "        trnaf.close()\n",
    "        \n",
    "        rnarobof=open(\"/mnt/mnemo6/lukas/Python/ribozymes/phage_samples/v4/together/\"+match[0].split(\".\")[0]+\"_rnarobo_result.txt\")\n",
    "        rnarobo=rnarobof.readlines()\n",
    "        rnarobof.close()\n",
    "        \n",
    "        \n",
    "        \n",
    "        \n",
    "    for line in trna[3:]:\n",
    "        \n",
    "    #create a dictionary with seq name as key and the starting position as value\n",
    "        line=line.strip().split()\n",
    "        \n",
    "        if match[0]==line[0]:\n",
    "            if len(lin_df.split())==0:\n",
    "                if str(match[2])==line[3]:\n",
    "                    #print(line)\n",
    "                    lin_df+=\" \".join(line)+\" \"\n",
    "                    if lin_df[-2]!=\"o\":\n",
    "                        lin_df+=\"NA \"\n",
    "            else: \n",
    "                duplicates.append(line)    \n",
    "    \n",
    "    for line in rnarobo[11:-6]:\n",
    "        #fix 1: we don't need this here!\n",
    "        #line=line.replace(\".\",\"_\")\n",
    "        line=line.strip().split()\n",
    "        if len(lin_df.split())<13:\n",
    "\n",
    "            if check==1:\n",
    "                #if len(lin_df.split())<13:\n",
    "                    lin_df+=str(line[0])\n",
    "                    check=0\n",
    "                #else:\n",
    "                        #duplicates.append(line)\n",
    "\n",
    "                #check=0\n",
    "                \n",
    "            #####FIX 2: Important here: we did this to make sure that we are actually matching the right ribozyme here...\n",
    "            if len(line)>1:\n",
    "                #here we made the mistake: not checking the actual ID but only starting position\n",
    "                if match[0]==line[2]:\n",
    "                    if str(match[1])==line[0]:\n",
    "                    #if len(lin_df.split())<13:\n",
    "                        lin_df+=\" \".join(line[:2])\n",
    "                        lin_df+=\" \"\n",
    "                        check=1\n",
    "                #else:\n",
    "                #duplicates.append(line)\n",
    "                #check=0\n",
    "    \n",
    "    #change to 4: CORRECT\n",
    "   \n",
    "    \n",
    "    oldn=match[0]\n",
    "    lin_f=lin_df.split()\n",
    "    lets_do_this.loc[nr]=np.array(lin_f)\n",
    "    \n",
    "    #lets_do_this.iloc[nr,:8]=lin_df[0]\n",
    "    #lets_do_this.iloc[nr,8:-1]=lin_df[1]\n",
    "    #lets_do_this.iloc[nr,-1]=lin_df[2]"
   ]
  },
  {
   "cell_type": "code",
   "execution_count": 17,
   "metadata": {},
   "outputs": [],
   "source": [
    "fff=lets_do_this"
   ]
  },
  {
   "cell_type": "code",
   "execution_count": 19,
   "metadata": {},
   "outputs": [],
   "source": [
    "y=fff[\"trna_type\"].value_counts()"
   ]
  },
  {
   "cell_type": "code",
   "execution_count": 22,
   "metadata": {},
   "outputs": [],
   "source": [
    "fff[\"trnaseq\"]= \" \"\n",
    "\n",
    "fff[\"ribozyme_control\"]= \" \""
   ]
  },
  {
   "cell_type": "code",
   "execution_count": null,
   "metadata": {},
   "outputs": [],
   "source": [
    "# add the trna sequences\n",
    "#now we have the problem that we have different formats in the files: some have only one line for seuence, others multiple"
   ]
  },
  {
   "cell_type": "code",
   "execution_count": 24,
   "metadata": {},
   "outputs": [],
   "source": [
    "#lets try to save and cut out the respective trnas (and in between part)\n",
    "check=0\n",
    "for ID in range(len(fff)):\n",
    "    match=fff.iloc[ID,0]\n",
    "    rnarobof=open(\"/mnt/mnemo6/lukas/Python/ribozymes/phage_samples/v4/together/\"+match.split(\".\")[0]+\"_seqs_rnarobo_result.txt\")\n",
    "    rnarobo=rnarobof.readlines()\n",
    "    rnarobof.close()\n",
    "    #inp=\"grep -A1 -m1 \"+fff.iloc[ID,0]+\" mgv_contigs.fna\" \n",
    "    #res=subprocess.run(inp,shell=True, capture_output=True, text=True)\n",
    "    sequ=\"\"\n",
    "    for num in rnarobo:\n",
    "        \n",
    "        if num[0]==\">\":\n",
    "            check=0\n",
    "        #in this order it automatecely selects the sequence after matching\n",
    "        if check==1:\n",
    "            sequ+=num.strip()\n",
    "            #check=0\n",
    "            #exclude the \">\" of the fasta file\n",
    "        if match==num.split(\" \")[0][1:]:\n",
    "            check=1\n",
    "\n",
    "        #sequ=res.stdout.split()[-1]\n",
    "    check=0\n",
    "    start=int(fff.iloc[ID,2])-1\n",
    "    end=int(fff.iloc[ID,3])\n",
    "    start2=int(fff.iloc[ID,10])-1\n",
    "    end2=int(fff.iloc[ID,11])\n",
    "    if start < end:\n",
    "        trna=sequ[start:end]\n",
    "        rnarobo=sequ[start2:end2]\n",
    "        fff.iloc[ID,-2]=trna\n",
    "        fff.iloc[ID,-1]=rnarobo\n",
    "    if end < start:\n",
    "        #reverse sequence: add +1 to reverse previous indexing correction \n",
    "        end-=1\n",
    "        start+=1\n",
    "        end2-=1\n",
    "        start2+=1\n",
    "        trna_rev=sequ[end:start]\n",
    "        ribo_rev=sequ[end2:start2]\n",
    "        trna=[]\n",
    "        rnarobo=[]\n",
    "        #reverse parts: transcribe back into the correct format!\n",
    "        for nuc in range(len(trna_rev)-1,-1,-1):\n",
    "            if trna_rev[nuc]==\"A\":\n",
    "                trna.append(\"T\")\n",
    "            if trna_rev[nuc]==\"T\":\n",
    "                trna.append(\"A\")\n",
    "            ####here we also added the N option, qhich is superrare but possible nontheless\n",
    "            if trna_rev[nuc]==\"N\":\n",
    "                trna.append(\"N\")\n",
    "            if trna_rev[nuc]==\"G\":\n",
    "                trna.append(\"C\")\n",
    "            if trna_rev[nuc]==\"C\":\n",
    "                trna.append(\"G\")\n",
    "        for nuc in range(len(ribo_rev)-1,-1,-1):\n",
    "            if ribo_rev[nuc]==\"A\":\n",
    "                rnarobo.append(\"T\")\n",
    "            if ribo_rev[nuc]==\"T\":\n",
    "                rnarobo.append(\"A\")\n",
    "            if ribo_rev[nuc]==\"G\":\n",
    "                rnarobo.append(\"C\")\n",
    "            if ribo_rev[nuc]==\"C\":\n",
    "                rnarobo.append(\"G\")\n",
    "            if ribo_rev[nuc]==\"N\":\n",
    "                rnarobo.append(\"N\")\n",
    "        trna=\"\".join(trna)\n",
    "        rnarobo=\"\".join(rnarobo)\n",
    "        fff.iloc[ID,-2]=trna\n",
    "        fff.iloc[ID,-1]=rnarobo\n",
    "    "
   ]
  },
  {
   "cell_type": "code",
   "execution_count": 25,
   "metadata": {},
   "outputs": [
    {
     "name": "stdout",
     "output_type": "stream",
     "text": [
      "something wrong 9784\n",
      "\n",
      "GGTGCCATGAGAGAAGCCTGCACGCGGCGGCACTGCTTTAACTGATTCTCTC\n"
     ]
    }
   ],
   "source": [
    "#check if the control and actual seq are the same\n",
    "for x in range(len(fff)):\n",
    "    seq1=fff.loc[x,\"rnarobo_seq\"]\n",
    "    seq3=\"\".join(seq1.split(\"|\"))\n",
    "    seq2=fff.loc[x,\"ribozyme_control\"]\n",
    "    if seq2!=seq3:\n",
    "        print(\"something wrong\",x)\n",
    "        print(seq2)\n",
    "        print(seq3)"
   ]
  },
  {
   "cell_type": "code",
   "execution_count": 27,
   "metadata": {},
   "outputs": [
    {
     "data": {
      "text/html": [
       "<div>\n",
       "<style scoped>\n",
       "    .dataframe tbody tr th:only-of-type {\n",
       "        vertical-align: middle;\n",
       "    }\n",
       "\n",
       "    .dataframe tbody tr th {\n",
       "        vertical-align: top;\n",
       "    }\n",
       "\n",
       "    .dataframe thead th {\n",
       "        text-align: right;\n",
       "    }\n",
       "</style>\n",
       "<table border=\"1\" class=\"dataframe\">\n",
       "  <thead>\n",
       "    <tr style=\"text-align: right;\">\n",
       "      <th></th>\n",
       "      <th>ID</th>\n",
       "      <th>trna_nr</th>\n",
       "      <th>trna_start</th>\n",
       "      <th>trna_end</th>\n",
       "      <th>trna_type</th>\n",
       "      <th>codon</th>\n",
       "      <th>ins_start</th>\n",
       "      <th>ins_end</th>\n",
       "      <th>trna_confidence</th>\n",
       "      <th>psuedo</th>\n",
       "      <th>rnarobo_start</th>\n",
       "      <th>rnarobo_end</th>\n",
       "      <th>rnarobo_seq</th>\n",
       "      <th>trnaseq</th>\n",
       "      <th>ribozyme_control</th>\n",
       "    </tr>\n",
       "  </thead>\n",
       "  <tbody>\n",
       "    <tr>\n",
       "      <th>9783</th>\n",
       "      <td>ERR2597408.26235469</td>\n",
       "      <td>1</td>\n",
       "      <td>19</td>\n",
       "      <td>90</td>\n",
       "      <td>Met</td>\n",
       "      <td>CAT</td>\n",
       "      <td>0</td>\n",
       "      <td>0</td>\n",
       "      <td>64.9</td>\n",
       "      <td>NA</td>\n",
       "      <td>91</td>\n",
       "      <td>145</td>\n",
       "      <td>|GGGATAC|AT|TTGATAA|GCC|T|CC|ACGT|GGC|GTATCCT|...</td>\n",
       "      <td>TGCGGGGTGTAGCAGTGGTAGCTTACCAGCCTCATAAGCTGGTGGT...</td>\n",
       "      <td>GGGATACATTTGATAAGCCTCCACGTGGCGTATCCTGGGTAATGCT...</td>\n",
       "    </tr>\n",
       "    <tr>\n",
       "      <th>9784</th>\n",
       "      <td>SRR7141503.13486898</td>\n",
       "      <td>1</td>\n",
       "      <td>196</td>\n",
       "      <td>100</td>\n",
       "      <td>Pro</td>\n",
       "      <td>TGG</td>\n",
       "      <td>0</td>\n",
       "      <td>0</td>\n",
       "      <td>19.5</td>\n",
       "      <td>pseudo</td>\n",
       "      <td>98</td>\n",
       "      <td>149</td>\n",
       "      <td>|GGTGCC|AT|GAGAGAA|GCC|T|GC|ACGC|GGC|GGCACT|GC...</td>\n",
       "      <td>TAGCGCAGCTGGTAGAGCGCGTGATTTGGGATCACGAGGTCGTGAG...</td>\n",
       "      <td></td>\n",
       "    </tr>\n",
       "  </tbody>\n",
       "</table>\n",
       "</div>"
      ],
      "text/plain": [
       "                       ID trna_nr trna_start trna_end trna_type codon  \\\n",
       "9783  ERR2597408.26235469       1         19       90       Met   CAT   \n",
       "9784  SRR7141503.13486898       1        196      100       Pro   TGG   \n",
       "\n",
       "     ins_start ins_end trna_confidence  psuedo rnarobo_start rnarobo_end  \\\n",
       "9783         0       0            64.9      NA            91         145   \n",
       "9784         0       0            19.5  pseudo            98         149   \n",
       "\n",
       "                                            rnarobo_seq  \\\n",
       "9783  |GGGATAC|AT|TTGATAA|GCC|T|CC|ACGT|GGC|GTATCCT|...   \n",
       "9784  |GGTGCC|AT|GAGAGAA|GCC|T|GC|ACGC|GGC|GGCACT|GC...   \n",
       "\n",
       "                                                trnaseq  \\\n",
       "9783  TGCGGGGTGTAGCAGTGGTAGCTTACCAGCCTCATAAGCTGGTGGT...   \n",
       "9784  TAGCGCAGCTGGTAGAGCGCGTGATTTGGGATCACGAGGTCGTGAG...   \n",
       "\n",
       "                                       ribozyme_control  \n",
       "9783  GGGATACATTTGATAAGCCTCCACGTGGCGTATCCTGGGTAATGCT...  \n",
       "9784                                                     "
      ]
     },
     "execution_count": 27,
     "metadata": {},
     "output_type": "execute_result"
    }
   ],
   "source": [
    "#wrong way: false positive, lets remove it\n",
    "fff.iloc[9783:9785,:]"
   ]
  },
  {
   "cell_type": "code",
   "execution_count": 28,
   "metadata": {},
   "outputs": [],
   "source": [
    "ft=fff.copy(deep=True)"
   ]
  },
  {
   "cell_type": "code",
   "execution_count": 29,
   "metadata": {},
   "outputs": [],
   "source": [
    "#drop the ribo with trna going into the wrong direction\n",
    "ft.drop(9784,inplace=True)"
   ]
  },
  {
   "cell_type": "code",
   "execution_count": 31,
   "metadata": {},
   "outputs": [],
   "source": [
    "ft.reset_index(drop=True,inplace=True)"
   ]
  },
  {
   "cell_type": "code",
   "execution_count": 32,
   "metadata": {},
   "outputs": [],
   "source": [
    "df1str=ft.to_csv(sep=\"\\t\",index=False)\n",
    "f= open(\"tables_and_results/WGS_ribo_trna.csv\",\"w+\")\n",
    "f.write(df1str)\n",
    "f.close()"
   ]
  },
  {
   "cell_type": "code",
   "execution_count": 42,
   "metadata": {},
   "outputs": [
    {
     "data": {
      "text/plain": [
       "1698"
      ]
     },
     "execution_count": 42,
     "metadata": {},
     "output_type": "execute_result"
    }
   ],
   "source": [
    "#unique ribozymes in metag samples\n",
    "len(ft[\"ribozyme_control\"].unique())"
   ]
  },
  {
   "cell_type": "code",
   "execution_count": 44,
   "metadata": {},
   "outputs": [
    {
     "data": {
      "text/plain": [
       "5721"
      ]
     },
     "execution_count": 44,
     "metadata": {},
     "output_type": "execute_result"
    }
   ],
   "source": [
    "#unique trnas in metag samples\n",
    "len(ft[\"trnaseq\"].unique())"
   ]
  },
  {
   "cell_type": "code",
   "execution_count": null,
   "metadata": {},
   "outputs": [],
   "source": [
    "#check the environments in which the hits are found"
   ]
  }
 ],
 "metadata": {
  "kernelspec": {
   "display_name": "Python 3",
   "language": "python",
   "name": "python3"
  },
  "language_info": {
   "codemirror_mode": {
    "name": "ipython",
    "version": 3
   },
   "file_extension": ".py",
   "mimetype": "text/x-python",
   "name": "python",
   "nbconvert_exporter": "python",
   "pygments_lexer": "ipython3",
   "version": "3.7.6"
  }
 },
 "nbformat": 4,
 "nbformat_minor": 4
}
