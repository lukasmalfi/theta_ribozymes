{
 "cells": [
  {
   "cell_type": "code",
   "execution_count": 11,
   "metadata": {},
   "outputs": [],
   "source": [
    "import os\n",
    "import subprocess\n",
    "import pandas as pd\n",
    "import numpy as np"
   ]
  },
  {
   "cell_type": "code",
   "execution_count": null,
   "metadata": {},
   "outputs": [
    {
     "name": "stdout",
     "output_type": "stream",
     "text": [
      "duplicated but why\n",
      "duplicated but why\n",
      "duplicated but why\n",
      "duplicated but why\n",
      "duplicated but why\n",
      "duplicated but why\n",
      "duplicated but why\n",
      "duplicated but why\n",
      "duplicated but why\n",
      "duplicated but why\n",
      "duplicated but why\n",
      "duplicated but why\n",
      "duplicated but why\n",
      "duplicated but why\n",
      "duplicated but why\n",
      "duplicated but why\n",
      "duplicated but why\n",
      "duplicated but why\n",
      "duplicated but why\n",
      "duplicated but why\n",
      "duplicated but why\n",
      "duplicated but why\n",
      "duplicated but why\n",
      "duplicated but why\n",
      "duplicated but why\n",
      "duplicated but why\n",
      "duplicated but why\n",
      "duplicated but why\n",
      "duplicated but why\n",
      "duplicated but why\n",
      "duplicated but why\n",
      "duplicated but why\n",
      "duplicated but why\n",
      "duplicated but why\n",
      "duplicated but why\n",
      "duplicated but why\n",
      "duplicated but why\n",
      "duplicated but why\n",
      "duplicated but why\n",
      "duplicated but why\n",
      "duplicated but why\n",
      "duplicated but why\n",
      "duplicated but why\n",
      "duplicated but why\n",
      "duplicated but why\n",
      "duplicated but why\n",
      "duplicated but why\n",
      "duplicated but why\n",
      "duplicated but why\n",
      "duplicated but why\n",
      "duplicated but why\n",
      "duplicated but why\n",
      "duplicated but why\n",
      "duplicated but why\n",
      "duplicated but why\n",
      "duplicated but why\n",
      "duplicated but why\n",
      "duplicated but why\n",
      "duplicated but why\n",
      "duplicated but why\n",
      "duplicated but why\n",
      "duplicated but why\n",
      "duplicated but why\n",
      "duplicated but why\n",
      "duplicated but why\n",
      "duplicated but why\n",
      "duplicated but why\n",
      "duplicated but why\n",
      "duplicated but why\n",
      "duplicated but why\n",
      "duplicated but why\n",
      "duplicated but why\n",
      "duplicated but why\n",
      "duplicated but why\n",
      "duplicated but why\n",
      "duplicated but why\n",
      "duplicated but why\n",
      "duplicated but why\n",
      "duplicated but why\n",
      "duplicated but why\n",
      "duplicated but why\n",
      "duplicated but why\n",
      "duplicated but why\n",
      "duplicated but why\n",
      "duplicated but why\n",
      "duplicated but why\n",
      "duplicated but why\n",
      "duplicated but why\n",
      "duplicated but why\n",
      "duplicated but why\n",
      "duplicated but why\n",
      "duplicated but why\n",
      "duplicated but why\n",
      "duplicated but why\n",
      "duplicated but why\n",
      "duplicated but why\n",
      "duplicated but why\n",
      "duplicated but why\n",
      "duplicated but why\n",
      "duplicated but why\n",
      "duplicated but why\n",
      "duplicated but why\n"
     ]
    }
   ],
   "source": [
    "#lists all the files in the directory\n",
    "\n",
    "#57 potenbtially problematic due to double files...\n",
    "\n",
    "dicti_r={}\n",
    "for nu in range(1,61):\n",
    "    filenames_filt=[]\n",
    "    filenames=os.listdir(\"/mnt/mnemo6/lukas/Python/ribozymes/phage_samples/v4/rnarobo_results/\"+str(nu))\n",
    "    for fi in filenames:\n",
    "        if fi[-3:]==\"txt\":\n",
    "            filenames_filt.append(fi)\n",
    "\n",
    "    for filename in filenames_filt:\n",
    "       with open(os.path.join(\"/mnt/mnemo6/lukas/Python/ribozymes/phage_samples/v4/rnarobo_results/\"+str(nu), filename), 'r') as f: # open in readonly mode\n",
    "          # do your stuff\n",
    "            f_l=f.readlines()\n",
    "            #means at least one ribo was found\n",
    "            if len(f_l)>17:\n",
    "                for linea in f_l[11:-6]:\n",
    "                    if linea[0]!=\"|\":\n",
    "                        #line=linea.replace(\".\",\"_\")\n",
    "                        line=linea.strip().split()\n",
    "                        try:\n",
    "                            if line[2] in dicti_r:\n",
    "                                dicti_r[line[2]].append(int(line[0]))\n",
    "                            else:\n",
    "                                dicti_r[line[2]]=[int(line[0])]\n",
    "                        except: \n",
    "                            print(\"duplicated but why\")\n",
    "\n",
    "\n"
   ]
  },
  {
   "cell_type": "code",
   "execution_count": 6,
   "metadata": {},
   "outputs": [
    {
     "data": {
      "text/plain": [
       "7"
      ]
     },
     "execution_count": 6,
     "metadata": {},
     "output_type": "execute_result"
    }
   ],
   "source": [
    "# so it looks like sometimes the ronarobo results get duplicated, and that in turn leads to trnascan to run wild-> how to fix"
   ]
  },
  {
   "cell_type": "code",
   "execution_count": 3,
   "metadata": {},
   "outputs": [
    {
     "data": {
      "text/plain": [
       "'SRR1966467_rnarobo_result.txt'"
      ]
     },
     "execution_count": 3,
     "metadata": {},
     "output_type": "execute_result"
    }
   ],
   "source": [
    "filename"
   ]
  },
  {
   "cell_type": "code",
   "execution_count": 5,
   "metadata": {},
   "outputs": [
    {
     "data": {
      "text/plain": [
       "104264"
      ]
     },
     "execution_count": 5,
     "metadata": {},
     "output_type": "execute_result"
    }
   ],
   "source": [
    "len(dicti_r)\n",
    "#Yay"
   ]
  },
  {
   "cell_type": "code",
   "execution_count": 6,
   "metadata": {},
   "outputs": [],
   "source": [
    "#to create dicti of all trnascan files\n",
    "dicti={}\n",
    "for nu2 in range(1,61):\n",
    "    filenames=os.listdir(\"/mnt/mnemo6/lukas/Python/ribozymes/phage_samples/v4/trnascan/\"+str(nu2))\n",
    "    filenames_filt=[]\n",
    " \n",
    "    for fi in filenames:\n",
    "        if fi[-3:]==\"txt\":\n",
    "            filenames_filt.append(fi)\n",
    "    for filename in filenames_filt:\n",
    "        #with open(os.path.join(\"/mnt/mnemo6/lukas/Python/ribozymes/phage_samples/v3_T/trnascan/\"+str(nu), filename), 'r') as f: # open in readonly mode\n",
    "            f=open(\"/mnt/mnemo6/lukas/Python/ribozymes/phage_samples/v4/trnascan/\"+str(nu2)+\"/\"+filename, 'r')\n",
    "           \n",
    "          # do your stuff\n",
    "            f_l=f.readlines()\n",
    "         \n",
    "            #means at least one ribo was found\n",
    "            if len(f_l)>1:\n",
    "                for line in f_l[3:]:\n",
    "                #create a dictionary with seq name as key and the starting position as value\n",
    "                    line=line.strip().split()\n",
    "                    #line[0]=line[0].replace(\".\",\"_\")\n",
    "                    if line[0] in dicti:\n",
    "                        dicti[line[0]].append(int(line[3]))\n",
    "                    else:\n",
    "                        dicti[line[0]]=[int(line[3])]\n",
    "                    "
   ]
  },
  {
   "cell_type": "code",
   "execution_count": 36,
   "metadata": {},
   "outputs": [
    {
     "data": {
      "text/plain": [
       "['SRR1612320.1975633', '1', '7', '78', 'Sup', 'CTA', '0', '0', '60.8']"
      ]
     },
     "execution_count": 36,
     "metadata": {},
     "output_type": "execute_result"
    }
   ],
   "source": [
    "rs_s[4].strip().split()"
   ]
  },
  {
   "cell_type": "code",
   "execution_count": 7,
   "metadata": {},
   "outputs": [],
   "source": [
    "matching=[]\n",
    "for key in dicti_r:\n",
    "    if key in dicti:\n",
    "        for value in dicti_r[key]:\n",
    "            for value2 in dicti[key]:\n",
    "                if value-value2 in range(-5,5):\n",
    "                    matching.append([key,value,value2])"
   ]
  },
  {
   "cell_type": "code",
   "execution_count": 8,
   "metadata": {},
   "outputs": [],
   "source": [
    "newm=matching"
   ]
  },
  {
   "cell_type": "code",
   "execution_count": null,
   "metadata": {},
   "outputs": [],
   "source": [
    "#lets create the dataframe with all hits"
   ]
  },
  {
   "cell_type": "code",
   "execution_count": 12,
   "metadata": {},
   "outputs": [],
   "source": [
    "lets_do_this=pd.DataFrame(columns=[\"ID\",\"trna_nr\",\"trna_start\",\"trna_end\",\"trna_type\",\"codon\",\"ins_start\",\"ins_end\",\"trna_confidence\",\"psuedo\",\"rnarobo_start\",\"rnarobo_end\",\"rnarobo_seq\"])\n",
    "check=0\n",
    "oldn=\"\"\n",
    "duplicates=[]\n",
    "for nr in range(len(newm)):\n",
    "    #check: if old filename is still the same\n",
    "    match=newm[nr]\n",
    "    lin_df=\"\"\n",
    "    if match[0]!=oldn:\n",
    "        \n",
    "        \n",
    "        trnaf=open(\"../phage_samples/v4/together/\"+match[0].split(\".\")[0]+\"trna_result.txt\")\n",
    "        trna=trnaf.readlines()\n",
    "        trnaf.close()\n",
    "        \n",
    "        rnarobof=open(\"../phage_samples/v4/together/\"+match[0].split(\".\")[0]+\"_rnarobo_result.txt\")\n",
    "        rnarobo=rnarobof.readlines()\n",
    "        rnarobof.close()\n",
    "        \n",
    "        \n",
    "        \n",
    "        \n",
    "    for line in trna[3:]:\n",
    "        \n",
    "    #create a dictionary with seq name as key and the starting position as value\n",
    "        line=line.strip().split()\n",
    "        \n",
    "        if match[0]==line[0]:\n",
    "            if len(lin_df.split())==0:\n",
    "                if str(match[2])==line[3]:\n",
    "                    #print(line)\n",
    "                    lin_df+=\" \".join(line)+\" \"\n",
    "                    if lin_df[-2]!=\"o\":\n",
    "                        lin_df+=\"NA \"\n",
    "            else: \n",
    "                duplicates.append(line)    \n",
    "    \n",
    "    for line in rnarobo[11:-6]:\n",
    "        #fix 1: we don't need this here!\n",
    "        #line=line.replace(\".\",\"_\")\n",
    "        line=line.strip().split()\n",
    "        if len(lin_df.split())<13:\n",
    "\n",
    "            if check==1:\n",
    "                #if len(lin_df.split())<13:\n",
    "                    lin_df+=str(line[0])\n",
    "                    check=0\n",
    "                #else:\n",
    "                        #duplicates.append(line)\n",
    "\n",
    "                #check=0\n",
    "                \n",
    "            #####FIX 2: Important here: we did this to make sure that we are actually matching the right ribozyme here...\n",
    "            if len(line)>1:\n",
    "                #here we made the mistake: not checking the actual ID but only starting position\n",
    "                if match[0]==line[2]:\n",
    "                    if str(match[1])==line[0]:\n",
    "                    #if len(lin_df.split())<13:\n",
    "                        lin_df+=\" \".join(line[:2])\n",
    "                        lin_df+=\" \"\n",
    "                        check=1\n",
    "                #else:\n",
    "                #duplicates.append(line)\n",
    "                #check=0\n",
    "    \n",
    "    #change to 4: CORRECT\n",
    "   \n",
    "    \n",
    "    oldn=match[0]\n",
    "    lin_f=lin_df.split()\n",
    "    lets_do_this.loc[nr]=np.array(lin_f)\n",
    "    \n",
    "    #lets_do_this.iloc[nr,:8]=lin_df[0]\n",
    "    #lets_do_this.iloc[nr,8:-1]=lin_df[1]\n",
    "    #lets_do_this.iloc[nr,-1]=lin_df[2]"
   ]
  },
  {
   "cell_type": "code",
   "execution_count": 13,
   "metadata": {},
   "outputs": [],
   "source": [
    "fff=lets_do_this"
   ]
  },
  {
   "cell_type": "code",
   "execution_count": 14,
   "metadata": {},
   "outputs": [
    {
     "data": {
      "text/html": [
       "<div>\n",
       "<style scoped>\n",
       "    .dataframe tbody tr th:only-of-type {\n",
       "        vertical-align: middle;\n",
       "    }\n",
       "\n",
       "    .dataframe tbody tr th {\n",
       "        vertical-align: top;\n",
       "    }\n",
       "\n",
       "    .dataframe thead th {\n",
       "        text-align: right;\n",
       "    }\n",
       "</style>\n",
       "<table border=\"1\" class=\"dataframe\">\n",
       "  <thead>\n",
       "    <tr style=\"text-align: right;\">\n",
       "      <th></th>\n",
       "      <th>ID</th>\n",
       "      <th>trna_nr</th>\n",
       "      <th>trna_start</th>\n",
       "      <th>trna_end</th>\n",
       "      <th>trna_type</th>\n",
       "      <th>codon</th>\n",
       "      <th>ins_start</th>\n",
       "      <th>ins_end</th>\n",
       "      <th>trna_confidence</th>\n",
       "      <th>psuedo</th>\n",
       "      <th>rnarobo_start</th>\n",
       "      <th>rnarobo_end</th>\n",
       "      <th>rnarobo_seq</th>\n",
       "    </tr>\n",
       "  </thead>\n",
       "  <tbody>\n",
       "    <tr>\n",
       "      <th>5</th>\n",
       "      <td>ERR2597485.4646148</td>\n",
       "      <td>1</td>\n",
       "      <td>301</td>\n",
       "      <td>216</td>\n",
       "      <td>Leu</td>\n",
       "      <td>TAA</td>\n",
       "      <td>0</td>\n",
       "      <td>0</td>\n",
       "      <td>59.8</td>\n",
       "      <td>NA</td>\n",
       "      <td>215</td>\n",
       "      <td>161</td>\n",
       "      <td>|GAATAGC|AA|ATGAGAA|ACC|T|CC|ACGT|GGT|GCTATTC|...</td>\n",
       "    </tr>\n",
       "    <tr>\n",
       "      <th>6</th>\n",
       "      <td>ERR2597485.5158749</td>\n",
       "      <td>1</td>\n",
       "      <td>135</td>\n",
       "      <td>204</td>\n",
       "      <td>Ile</td>\n",
       "      <td>TAT</td>\n",
       "      <td>0</td>\n",
       "      <td>0</td>\n",
       "      <td>21.3</td>\n",
       "      <td>pseudo</td>\n",
       "      <td>205</td>\n",
       "      <td>261</td>\n",
       "      <td>|GATTCTC|AAA|GCCTTTT|ACC|T|CC|ACGT|GGT|GAGAATC...</td>\n",
       "    </tr>\n",
       "    <tr>\n",
       "      <th>7</th>\n",
       "      <td>ERR2597485.5774728</td>\n",
       "      <td>1</td>\n",
       "      <td>164</td>\n",
       "      <td>237</td>\n",
       "      <td>Glu</td>\n",
       "      <td>TTC</td>\n",
       "      <td>0</td>\n",
       "      <td>0</td>\n",
       "      <td>46.0</td>\n",
       "      <td>NA</td>\n",
       "      <td>238</td>\n",
       "      <td>293</td>\n",
       "      <td>|GGAATGT|AAT|TCTTGCA|ACC|T|CC|ACGT|GGT|ACATTCT...</td>\n",
       "    </tr>\n",
       "    <tr>\n",
       "      <th>8</th>\n",
       "      <td>ERR2597485.6098813</td>\n",
       "      <td>1</td>\n",
       "      <td>1</td>\n",
       "      <td>66</td>\n",
       "      <td>Sup</td>\n",
       "      <td>CTA</td>\n",
       "      <td>0</td>\n",
       "      <td>0</td>\n",
       "      <td>39.9</td>\n",
       "      <td>NA</td>\n",
       "      <td>70</td>\n",
       "      <td>125</td>\n",
       "      <td>|GAATAGC|GTA|AGTAGAA|ACC|T|CC|ACGT|GGT|GCTATTC...</td>\n",
       "    </tr>\n",
       "    <tr>\n",
       "      <th>9</th>\n",
       "      <td>ERR2597485.6183304</td>\n",
       "      <td>1</td>\n",
       "      <td>145</td>\n",
       "      <td>214</td>\n",
       "      <td>Sup</td>\n",
       "      <td>CTA</td>\n",
       "      <td>0</td>\n",
       "      <td>0</td>\n",
       "      <td>24.5</td>\n",
       "      <td>NA</td>\n",
       "      <td>213</td>\n",
       "      <td>268</td>\n",
       "      <td>|GAATAGC|GTA|AGTAGAA|ACC|T|CC|ACGT|GGT|GCTATTC...</td>\n",
       "    </tr>\n",
       "    <tr>\n",
       "      <th>...</th>\n",
       "      <td>...</td>\n",
       "      <td>...</td>\n",
       "      <td>...</td>\n",
       "      <td>...</td>\n",
       "      <td>...</td>\n",
       "      <td>...</td>\n",
       "      <td>...</td>\n",
       "      <td>...</td>\n",
       "      <td>...</td>\n",
       "      <td>...</td>\n",
       "      <td>...</td>\n",
       "      <td>...</td>\n",
       "      <td>...</td>\n",
       "    </tr>\n",
       "    <tr>\n",
       "      <th>12153</th>\n",
       "      <td>SRR1522982.2622580</td>\n",
       "      <td>1</td>\n",
       "      <td>111</td>\n",
       "      <td>182</td>\n",
       "      <td>Sup</td>\n",
       "      <td>CTA</td>\n",
       "      <td>0</td>\n",
       "      <td>0</td>\n",
       "      <td>58.4</td>\n",
       "      <td>NA</td>\n",
       "      <td>183</td>\n",
       "      <td>238</td>\n",
       "      <td>|GAATAGC|GTA|AGTAGAA|ACC|T|CC|ACGT|GGT|GCTATTC...</td>\n",
       "    </tr>\n",
       "    <tr>\n",
       "      <th>12154</th>\n",
       "      <td>SRR1522982.4111288</td>\n",
       "      <td>1</td>\n",
       "      <td>147</td>\n",
       "      <td>63</td>\n",
       "      <td>Ser</td>\n",
       "      <td>GCT</td>\n",
       "      <td>0</td>\n",
       "      <td>0</td>\n",
       "      <td>39.6</td>\n",
       "      <td>NA</td>\n",
       "      <td>60</td>\n",
       "      <td>4</td>\n",
       "      <td>|GGAATAC|GTG|ATATTCA|ACC|T|CC|TCGT|GGT|GTATTCT...</td>\n",
       "    </tr>\n",
       "    <tr>\n",
       "      <th>12155</th>\n",
       "      <td>SRR1522982.4750961</td>\n",
       "      <td>1</td>\n",
       "      <td>91</td>\n",
       "      <td>181</td>\n",
       "      <td>Ser</td>\n",
       "      <td>GCT</td>\n",
       "      <td>0</td>\n",
       "      <td>0</td>\n",
       "      <td>51.2</td>\n",
       "      <td>NA</td>\n",
       "      <td>184</td>\n",
       "      <td>240</td>\n",
       "      <td>|GGAATAC|GTG|ATATTCA|ACC|T|CC|TCGT|GGT|GTATTCT...</td>\n",
       "    </tr>\n",
       "    <tr>\n",
       "      <th>12156</th>\n",
       "      <td>SRR1522982.5505649</td>\n",
       "      <td>1</td>\n",
       "      <td>102</td>\n",
       "      <td>192</td>\n",
       "      <td>Ser</td>\n",
       "      <td>GCT</td>\n",
       "      <td>0</td>\n",
       "      <td>0</td>\n",
       "      <td>51.0</td>\n",
       "      <td>NA</td>\n",
       "      <td>195</td>\n",
       "      <td>251</td>\n",
       "      <td>|GGAATAC|GTG|ATATTCA|ACC|T|CC|TCGT|GGT|GTATTCT...</td>\n",
       "    </tr>\n",
       "    <tr>\n",
       "      <th>12157</th>\n",
       "      <td>SRR1522982.5876801</td>\n",
       "      <td>1</td>\n",
       "      <td>249</td>\n",
       "      <td>163</td>\n",
       "      <td>Ser</td>\n",
       "      <td>GCT</td>\n",
       "      <td>0</td>\n",
       "      <td>0</td>\n",
       "      <td>45.3</td>\n",
       "      <td>NA</td>\n",
       "      <td>160</td>\n",
       "      <td>104</td>\n",
       "      <td>|GGAATAC|GTG|ATATTCA|ACC|T|CC|TCGT|GGT|GTATTCT...</td>\n",
       "    </tr>\n",
       "  </tbody>\n",
       "</table>\n",
       "<p>12153 rows × 13 columns</p>\n",
       "</div>"
      ],
      "text/plain": [
       "                       ID trna_nr trna_start trna_end trna_type codon  \\\n",
       "5      ERR2597485.4646148       1        301      216       Leu   TAA   \n",
       "6      ERR2597485.5158749       1        135      204       Ile   TAT   \n",
       "7      ERR2597485.5774728       1        164      237       Glu   TTC   \n",
       "8      ERR2597485.6098813       1          1       66       Sup   CTA   \n",
       "9      ERR2597485.6183304       1        145      214       Sup   CTA   \n",
       "...                   ...     ...        ...      ...       ...   ...   \n",
       "12153  SRR1522982.2622580       1        111      182       Sup   CTA   \n",
       "12154  SRR1522982.4111288       1        147       63       Ser   GCT   \n",
       "12155  SRR1522982.4750961       1         91      181       Ser   GCT   \n",
       "12156  SRR1522982.5505649       1        102      192       Ser   GCT   \n",
       "12157  SRR1522982.5876801       1        249      163       Ser   GCT   \n",
       "\n",
       "      ins_start ins_end trna_confidence  psuedo rnarobo_start rnarobo_end  \\\n",
       "5             0       0            59.8      NA           215         161   \n",
       "6             0       0            21.3  pseudo           205         261   \n",
       "7             0       0            46.0      NA           238         293   \n",
       "8             0       0            39.9      NA            70         125   \n",
       "9             0       0            24.5      NA           213         268   \n",
       "...         ...     ...             ...     ...           ...         ...   \n",
       "12153         0       0            58.4      NA           183         238   \n",
       "12154         0       0            39.6      NA            60           4   \n",
       "12155         0       0            51.2      NA           184         240   \n",
       "12156         0       0            51.0      NA           195         251   \n",
       "12157         0       0            45.3      NA           160         104   \n",
       "\n",
       "                                             rnarobo_seq  \n",
       "5      |GAATAGC|AA|ATGAGAA|ACC|T|CC|ACGT|GGT|GCTATTC|...  \n",
       "6      |GATTCTC|AAA|GCCTTTT|ACC|T|CC|ACGT|GGT|GAGAATC...  \n",
       "7      |GGAATGT|AAT|TCTTGCA|ACC|T|CC|ACGT|GGT|ACATTCT...  \n",
       "8      |GAATAGC|GTA|AGTAGAA|ACC|T|CC|ACGT|GGT|GCTATTC...  \n",
       "9      |GAATAGC|GTA|AGTAGAA|ACC|T|CC|ACGT|GGT|GCTATTC...  \n",
       "...                                                  ...  \n",
       "12153  |GAATAGC|GTA|AGTAGAA|ACC|T|CC|ACGT|GGT|GCTATTC...  \n",
       "12154  |GGAATAC|GTG|ATATTCA|ACC|T|CC|TCGT|GGT|GTATTCT...  \n",
       "12155  |GGAATAC|GTG|ATATTCA|ACC|T|CC|TCGT|GGT|GTATTCT...  \n",
       "12156  |GGAATAC|GTG|ATATTCA|ACC|T|CC|TCGT|GGT|GTATTCT...  \n",
       "12157  |GGAATAC|GTG|ATATTCA|ACC|T|CC|TCGT|GGT|GTATTCT...  \n",
       "\n",
       "[12153 rows x 13 columns]"
      ]
     },
     "execution_count": 14,
     "metadata": {},
     "output_type": "execute_result"
    }
   ],
   "source": [
    "fff.iloc[5:]"
   ]
  },
  {
   "cell_type": "code",
   "execution_count": 15,
   "metadata": {},
   "outputs": [],
   "source": [
    "y=fff[\"trna_type\"].value_counts()"
   ]
  },
  {
   "cell_type": "code",
   "execution_count": 178,
   "metadata": {},
   "outputs": [],
   "source": [
    "plt.rcParams[\"figure.figsize\"] = (20,10)"
   ]
  },
  {
   "cell_type": "code",
   "execution_count": 179,
   "metadata": {},
   "outputs": [
    {
     "data": {
      "text/plain": [
       "<BarContainer object of 22 artists>"
      ]
     },
     "execution_count": 179,
     "metadata": {},
     "output_type": "execute_result"
    },
    {
     "data": {
      "image/png": "[encoded data removed]",
      "text/plain": [
       "<Figure size 1440x720 with 1 Axes>"
      ]
     },
     "metadata": {
      "needs_background": "light"
     },
     "output_type": "display_data"
    }
   ],
   "source": [
    "plt.bar(range(22),y,tick_label=y.index)\n"
   ]
  },
  {
   "cell_type": "code",
   "execution_count": 16,
   "metadata": {},
   "outputs": [],
   "source": [
    "fff[\"trnaseq\"]= \" \"\n",
    "\n",
    "fff[\"ribozyme_control\"]= \" \""
   ]
  },
  {
   "cell_type": "code",
   "execution_count": null,
   "metadata": {},
   "outputs": [],
   "source": [
    "# add the trna sequences\n",
    "#now we have the problem that we have different formats in the files: some have only one line for seuence, others multiple"
   ]
  },
  {
   "cell_type": "code",
   "execution_count": 31,
   "metadata": {},
   "outputs": [],
   "source": [
    "#lets try to save and cut out the respective trnas (and in between part)\n",
    "check=0\n",
    "for ID in range(len(fff)):\n",
    "    match=fff.iloc[ID,0]\n",
    "    rnarobof=open(\"../phage_samples/v4/together/\"+match.split(\".\")[0]+\"_seqs_rnarobo_result.txt\")\n",
    "    rnarobo=rnarobof.readlines()\n",
    "    rnarobof.close()\n",
    "    #inp=\"grep -A1 -m1 \"+fff.iloc[ID,0]+\" mgv_contigs.fna\" \n",
    "    #res=subprocess.run(inp,shell=True, capture_output=True, text=True)\n",
    "    sequ=\"\"\n",
    "    for num in rnarobo:\n",
    "        \n",
    "        if num[0]==\">\":\n",
    "            check=0\n",
    "        #in this order it automatecely selects the sequence after matching\n",
    "        if check==1:\n",
    "            sequ+=num.strip()\n",
    "            #check=0\n",
    "            #exclude the \">\" of the fasta file\n",
    "        if match==num.split(\" \")[0][1:]:\n",
    "            check=1\n",
    "\n",
    "        #sequ=res.stdout.split()[-1]\n",
    "    check=0\n",
    "    start=int(fff.iloc[ID,2])-1\n",
    "    end=int(fff.iloc[ID,3])\n",
    "    start2=int(fff.iloc[ID,10])-1\n",
    "    end2=int(fff.iloc[ID,11])\n",
    "    if start < end:\n",
    "        trna=sequ[start:end]\n",
    "        rnarobo=sequ[start2:end2]\n",
    "        fff.iloc[ID,-2]=trna\n",
    "        fff.iloc[ID,-1]=rnarobo\n",
    "    if end < start:\n",
    "        #reverse sequence: add +1 to reverse previous indexing correction \n",
    "        end-=1\n",
    "        start+=1\n",
    "        end2-=1\n",
    "        start2+=1\n",
    "        trna_rev=sequ[end:start]\n",
    "        ribo_rev=sequ[end2:start2]\n",
    "        trna=[]\n",
    "        rnarobo=[]\n",
    "        #reverse parts: transcribe back into the correct format!\n",
    "        for nuc in range(len(trna_rev)-1,-1,-1):\n",
    "            if trna_rev[nuc]==\"A\":\n",
    "                trna.append(\"T\")\n",
    "            if trna_rev[nuc]==\"T\":\n",
    "                trna.append(\"A\")\n",
    "            ####here we also added the N option, qhich is superrare but possible nontheless\n",
    "            if trna_rev[nuc]==\"N\":\n",
    "                trna.append(\"N\")\n",
    "            if trna_rev[nuc]==\"G\":\n",
    "                trna.append(\"C\")\n",
    "            if trna_rev[nuc]==\"C\":\n",
    "                trna.append(\"G\")\n",
    "        for nuc in range(len(ribo_rev)-1,-1,-1):\n",
    "            if ribo_rev[nuc]==\"A\":\n",
    "                rnarobo.append(\"T\")\n",
    "            if ribo_rev[nuc]==\"T\":\n",
    "                rnarobo.append(\"A\")\n",
    "            if ribo_rev[nuc]==\"G\":\n",
    "                rnarobo.append(\"C\")\n",
    "            if ribo_rev[nuc]==\"C\":\n",
    "                rnarobo.append(\"G\")\n",
    "            if ribo_rev[nuc]==\"N\":\n",
    "                rnarobo.append(\"N\")\n",
    "        trna=\"\".join(trna)\n",
    "        rnarobo=\"\".join(rnarobo)\n",
    "        fff.iloc[ID,-2]=trna\n",
    "        fff.iloc[ID,-1]=rnarobo\n",
    "        \"\"\"\n",
    "    else:\n",
    "        resolved_taxname=fff.iloc[ID,0].replace(\"sp__\",\"sp._\")\n",
    "        inp=\"grep -A1 -m1 \"+resolved_taxname+\" ../1/CHVD_clustered_mash99_v1.fasta\" \n",
    "        res=subprocess.run(inp,shell=True, capture_output=True, text=True)\n",
    "        sequ=res.stdout.split()[-1]\n",
    "        start=fff.iloc[ID,2]-1\n",
    "        end=fff.iloc[ID,3]\n",
    "        start2=fff.iloc[ID,10]-1\n",
    "        end2=fff.iloc[ID,11]\n",
    "        if start < end:\n",
    "            trna=sequ[start:end]\n",
    "            rnarobo=sequ[start2:end2]\n",
    "            fff.iloc[ID,-2]=trna\n",
    "            fff.iloc[ID,-1]=rnarobo\n",
    "        if end < start:\n",
    "            #reverse sequence: add +1 to reverse previous indexing correction \n",
    "            end-=1\n",
    "            start+=1\n",
    "            end2-=1\n",
    "            start2+=1\n",
    "            trna_rev=sequ[end:start]\n",
    "            ribo_rev=sequ[end2:start2]\n",
    "            trna=[]\n",
    "            rnarobo=[]\n",
    "            #reverse parts: transcribe back into the correct format!\n",
    "            for nuc in range(len(trna_rev)-1,-1,-1):\n",
    "                if trna_rev[nuc]==\"A\":\n",
    "                    trna.append(\"T\")\n",
    "                if trna_rev[nuc]==\"T\":\n",
    "                    trna.append(\"A\")\n",
    "                if trna_rev[nuc]==\"G\":\n",
    "                    trna.append(\"C\")\n",
    "                if trna_rev[nuc]==\"C\":\n",
    "                    trna.append(\"G\")\n",
    "            for nuc in range(len(ribo_rev)-1,-1,-1):\n",
    "                if ribo_rev[nuc]==\"A\":\n",
    "                    rnarobo.append(\"T\")\n",
    "                if ribo_rev[nuc]==\"T\":\n",
    "                    rnarobo.append(\"A\")\n",
    "                if ribo_rev[nuc]==\"G\":\n",
    "                    rnarobo.append(\"C\")\n",
    "                if ribo_rev[nuc]==\"C\":\n",
    "                    rnarobo.append(\"G\")\n",
    "            trna=\"\".join(trna)\n",
    "            rnarobo=\"\".join(rnarobo)\n",
    "            fff.iloc[ID,-2]=trna\n",
    "            fff.iloc[ID,-1]=rnarobo\n",
    "            \n",
    "        #output[-1][seq_beginning,seq_end]\n",
    "        #but what with the inverted ones? :/ I guess we can change them post this by inverting and changing\n",
    "        \"\"\""
   ]
  },
  {
   "cell_type": "code",
   "execution_count": null,
   "metadata": {},
   "outputs": [],
   "source": [
    "se"
   ]
  },
  {
   "cell_type": "code",
   "execution_count": 32,
   "metadata": {},
   "outputs": [
    {
     "name": "stdout",
     "output_type": "stream",
     "text": [
      "something wrong 9499\n",
      "\n",
      "GGTGCCATGAGAGAAGCCTGCACGCGGCGGCACTGCTTTAACTGATTCTCTC\n"
     ]
    }
   ],
   "source": [
    "#check if the control and actual seq are the same\n",
    "for x in range(len(fff)):\n",
    "    seq1=fff.loc[x,\"rnarobo_seq\"]\n",
    "    seq3=\"\".join(seq1.split(\"|\"))\n",
    "    seq2=fff.loc[x,\"ribozyme_control\"]\n",
    "    if seq2!=seq3:\n",
    "        print(\"something wrong\",x)\n",
    "        print(seq2)\n",
    "        print(seq3)"
   ]
  },
  {
   "cell_type": "code",
   "execution_count": 33,
   "metadata": {},
   "outputs": [
    {
     "data": {
      "text/html": [
       "<div>\n",
       "<style scoped>\n",
       "    .dataframe tbody tr th:only-of-type {\n",
       "        vertical-align: middle;\n",
       "    }\n",
       "\n",
       "    .dataframe tbody tr th {\n",
       "        vertical-align: top;\n",
       "    }\n",
       "\n",
       "    .dataframe thead th {\n",
       "        text-align: right;\n",
       "    }\n",
       "</style>\n",
       "<table border=\"1\" class=\"dataframe\">\n",
       "  <thead>\n",
       "    <tr style=\"text-align: right;\">\n",
       "      <th></th>\n",
       "      <th>ID</th>\n",
       "      <th>trna_nr</th>\n",
       "      <th>trna_start</th>\n",
       "      <th>trna_end</th>\n",
       "      <th>trna_type</th>\n",
       "      <th>codon</th>\n",
       "      <th>ins_start</th>\n",
       "      <th>ins_end</th>\n",
       "      <th>trna_confidence</th>\n",
       "      <th>psuedo</th>\n",
       "      <th>rnarobo_start</th>\n",
       "      <th>rnarobo_end</th>\n",
       "      <th>rnarobo_seq</th>\n",
       "      <th>trnaseq</th>\n",
       "      <th>ribozyme_control</th>\n",
       "    </tr>\n",
       "  </thead>\n",
       "  <tbody>\n",
       "    <tr>\n",
       "      <th>9499</th>\n",
       "      <td>SRR7141503.13486898</td>\n",
       "      <td>1</td>\n",
       "      <td>196</td>\n",
       "      <td>100</td>\n",
       "      <td>Pro</td>\n",
       "      <td>TGG</td>\n",
       "      <td>0</td>\n",
       "      <td>0</td>\n",
       "      <td>19.5</td>\n",
       "      <td>pseudo</td>\n",
       "      <td>98</td>\n",
       "      <td>149</td>\n",
       "      <td>|GGTGCC|AT|GAGAGAA|GCC|T|GC|ACGC|GGC|GGCACT|GC...</td>\n",
       "      <td>TAGCGCAGCTGGTAGAGCGCGTGATTTGGGATCACGAGGTCGTGAG...</td>\n",
       "      <td></td>\n",
       "    </tr>\n",
       "  </tbody>\n",
       "</table>\n",
       "</div>"
      ],
      "text/plain": [
       "                       ID trna_nr trna_start trna_end trna_type codon  \\\n",
       "9499  SRR7141503.13486898       1        196      100       Pro   TGG   \n",
       "\n",
       "     ins_start ins_end trna_confidence  psuedo rnarobo_start rnarobo_end  \\\n",
       "9499         0       0            19.5  pseudo            98         149   \n",
       "\n",
       "                                            rnarobo_seq  \\\n",
       "9499  |GGTGCC|AT|GAGAGAA|GCC|T|GC|ACGC|GGC|GGCACT|GC...   \n",
       "\n",
       "                                                trnaseq ribozyme_control  \n",
       "9499  TAGCGCAGCTGGTAGAGCGCGTGATTTGGGATCACGAGGTCGTGAG...                   "
      ]
     },
     "execution_count": 33,
     "metadata": {},
     "output_type": "execute_result"
    }
   ],
   "source": [
    "#wrong way\n",
    "fff.iloc[9499:9500,:]"
   ]
  },
  {
   "cell_type": "code",
   "execution_count": 180,
   "metadata": {},
   "outputs": [
    {
     "data": {
      "text/plain": [
       "'GCGTGACAGGCCTAGCTCGTCAGTCTCATAAACTGAAGGTCTCTGGTTCAAGTCCAGAACCCGCA'"
      ]
     },
     "execution_count": 180,
     "metadata": {},
     "output_type": "execute_result"
    }
   ],
   "source": [
    "fff.iloc[0,13]"
   ]
  },
  {
   "cell_type": "code",
   "execution_count": 34,
   "metadata": {},
   "outputs": [],
   "source": [
    "df1str=fff.to_csv(sep=\"\\t\",index=False)\n",
    "f= open(\"all_WGS_ribo_trna_fix_feb23.csv\",\"w+\")\n",
    "f.write(df1str)\n",
    "f.close()"
   ]
  },
  {
   "cell_type": "code",
   "execution_count": null,
   "metadata": {},
   "outputs": [],
   "source": []
  },
  {
   "cell_type": "code",
   "execution_count": null,
   "metadata": {},
   "outputs": [],
   "source": [
    "#check the environments in which the hits are found"
   ]
  },
  {
   "cell_type": "code",
   "execution_count": 75,
   "metadata": {},
   "outputs": [],
   "source": [
    "import random\n",
    "import feather\n",
    "import os\n",
    "import matplotlib.pyplot as plt\n",
    "import subprocess\n"
   ]
  },
  {
   "cell_type": "code",
   "execution_count": 3,
   "metadata": {},
   "outputs": [],
   "source": [
    "\n",
    "import h5py\n",
    "import numpy as np\n",
    "import pandas as pd\n",
    "from scipy.sparse import csc_matrix\n",
    "\n",
    "def read_mapdb_h5(h5_path, otu_data=True, meta_data=True):\n",
    "    \"\"\"Example file: /mnt/mnemo3/janko/data/microbe_atlas/sruns-otus.97.otutable_plusMetaNoHeader_taxonomy_unmapped.h5\"\"\"\n",
    "    f = h5py.File(h5_path, 'r')\n",
    "    result_dict = {}\n",
    "\n",
    "    # read otu data\n",
    "    if otu_data:\n",
    "        data_handle = f[\"otu_table\"]\n",
    "        col_ptr, nzvals, rowindices, otu_index, sample_index = [np.array(data_handle[sub_key]) for sub_key in ['data_colptr', 'data_nzval', 'data_rowval', 'oids', 'sids']]\n",
    "\n",
    "        ## correct indexing (julia starts at 1)\n",
    "        col_ptr -= 1\n",
    "        rowindices -= 1\n",
    "\n",
    "        otutable_sparse = csc_matrix((nzvals,rowindices,col_ptr), shape=(data_handle[\"m\"][()],data_handle[\"n\"][()]))\n",
    "        result_dict[\"otu_data\"] = {\"otu_table\": otutable_sparse, \"otu_index\": otu_index, \"sample_index\": sample_index}\n",
    "\n",
    "    # read meta data\n",
    "    if meta_data:\n",
    "        meta_handle = f[\"meta_data\"]\n",
    "        result_dict[\"meta_data\"] = {sub_key: pd.DataFrame(np.array(meta_handle[sub_key]).T) for sub_key in meta_handle.keys()}\n",
    "\n",
    "    f.close()\n",
    "\n",
    "    return result_dict\n",
    "\n"
   ]
  },
  {
   "cell_type": "code",
   "execution_count": 4,
   "metadata": {},
   "outputs": [],
   "source": [
    "#select OTU level here: in This case 99%\n",
    "f1=read_mapdb_h5(\"/mnt/mnemo3/janko/data/microbe_atlas/hdf5/v0.2.2/metag_minfilter/samples-otus.99.metag.minfilter.remap.h5\")"
   ]
  },
  {
   "cell_type": "code",
   "execution_count": 46,
   "metadata": {},
   "outputs": [],
   "source": [
    "#select OTU level here: in This case 97, not filtered%\n",
    "f1=read_mapdb_h5(\"/mnt/mnemo3/janko/data/microbe_atlas/hdf5/v0.2.2/samples-otus.97.mapped.remap.h5\")"
   ]
  },
  {
   "cell_type": "code",
   "execution_count": 149,
   "metadata": {},
   "outputs": [],
   "source": [
    "jankos_env=pd.read_csv(\"/mnt/mnemo4/microbeatlas/mapdata/202/samples.env.janko\",sep=\"\\t\")"
   ]
  },
  {
   "cell_type": "code",
   "execution_count": 47,
   "metadata": {},
   "outputs": [],
   "source": [
    "keyw=f1[\"meta_data\"][\"keywords\"]"
   ]
  },
  {
   "cell_type": "code",
   "execution_count": 154,
   "metadata": {},
   "outputs": [],
   "source": [
    "wgs=keyw[keyw[3]==\"WGS\"]"
   ]
  },
  {
   "cell_type": "code",
   "execution_count": 156,
   "metadata": {},
   "outputs": [
    {
     "name": "stdout",
     "output_type": "stream",
     "text": [
      "animal found in 113622 samples\n",
      "soil found in 2617 samples\n",
      "aquatic found in 1827 samples\n",
      "plant found in 4344 samples\n"
     ]
    }
   ],
   "source": [
    "for x in [\"animal\",\"soil\",\"aquatic\",\"plant\"]:\n",
    "    print(x +\" found in \"+str(len(wgs[wgs[1]==x]))+\" samples\")"
   ]
  },
  {
   "cell_type": "code",
   "execution_count": 48,
   "metadata": {},
   "outputs": [],
   "source": [
    "\n",
    "samples=[]\n",
    "for x in matching:\n",
    "    samples.append(x[0].split(\".\")[0])"
   ]
  },
  {
   "cell_type": "code",
   "execution_count": 49,
   "metadata": {},
   "outputs": [
    {
     "data": {
      "text/plain": [
       "['SRR6764573', 'SRS2992533']"
      ]
     },
     "execution_count": 49,
     "metadata": {},
     "output_type": "execute_result"
    }
   ],
   "source": [
    "allspls=keyw.loc[:,0].str.split(\".\")\n",
    "\n",
    "ind=[]\n",
    "for x in allspls:\n",
    "    ind.append(x[0])\n",
    "\n"
   ]
  },
  {
   "cell_type": "code",
   "execution_count": 50,
   "metadata": {},
   "outputs": [],
   "source": [
    "keyw_2=keyw\n",
    "\n",
    "keyw_2.index=ind"
   ]
  },
  {
   "cell_type": "code",
   "execution_count": null,
   "metadata": {},
   "outputs": [],
   "source": []
  },
  {
   "cell_type": "code",
   "execution_count": 52,
   "metadata": {},
   "outputs": [
    {
     "name": "stdout",
     "output_type": "stream",
     "text": [
      "SRR5007456 not found\n"
     ]
    }
   ],
   "source": [
    "envs=[]\n",
    "for sa in samples:\n",
    "    try:\n",
    "        envs.append(keyw_2.loc[sa,1])\n",
    "    except:\n",
    "        print(sa+\" not found\")"
   ]
  },
  {
   "cell_type": "code",
   "execution_count": 57,
   "metadata": {},
   "outputs": [],
   "source": [
    "animal=0\n",
    "soil=0\n",
    "aquatic=0\n",
    "plant=0\n",
    "for env in envs:\n",
    "    if \"animal\" in env:\n",
    "        animal+=1\n",
    "    elif \"soil\" in env:\n",
    "        soil+=1\n",
    "    elif \"aquatic\" in env:\n",
    "        aquatic+=1\n",
    "    elif \"plant\" in env:\n",
    "        plant+=1"
   ]
  },
  {
   "cell_type": "code",
   "execution_count": 59,
   "metadata": {},
   "outputs": [
    {
     "name": "stdout",
     "output_type": "stream",
     "text": [
      "animal: 9528 \n",
      "soil: 155 \n",
      "aquatic: 758 \n",
      "plant: 2\n"
     ]
    }
   ],
   "source": [
    "print(\"animal: \"+str(animal)+\" \\nsoil: \"+str(soil)+\" \\naquatic: \"+str(aquatic)+\" \\nplant: \"+str(plant))"
   ]
  },
  {
   "cell_type": "code",
   "execution_count": 68,
   "metadata": {},
   "outputs": [
    {
     "name": "stdout",
     "output_type": "stream",
     "text": [
      "SRR5007456 not found\n",
      "ERR2113684 not found\n",
      "ERR2113684 not found\n"
     ]
    }
   ],
   "source": [
    "samples2=[]\n",
    "for x in dicti_r.keys():\n",
    "    samples2.append(x.split(\"_\")[0])\n",
    "\n",
    "envs=[]\n",
    "for sa in samples2:\n",
    "    try:\n",
    "        envs.append(keyw_2.loc[sa,1])\n",
    "    except:\n",
    "        print(sa+\" not found\")"
   ]
  },
  {
   "cell_type": "code",
   "execution_count": 161,
   "metadata": {},
   "outputs": [
    {
     "data": {
      "text/plain": [
       "5945"
      ]
     },
     "execution_count": 161,
     "metadata": {},
     "output_type": "execute_result"
    }
   ],
   "source": [
    "len(set(samples2))"
   ]
  },
  {
   "cell_type": "code",
   "execution_count": 69,
   "metadata": {},
   "outputs": [],
   "source": [
    "animal=0\n",
    "soil=0\n",
    "aquatic=0\n",
    "plant=0\n",
    "for env in envs:\n",
    "    if \"animal\" in env:\n",
    "        animal+=1\n",
    "    elif \"soil\" in env:\n",
    "        soil+=1\n",
    "    elif \"aquatic\" in env:\n",
    "        aquatic+=1\n",
    "    elif \"plant\" in env:\n",
    "        plant+=1"
   ]
  },
  {
   "cell_type": "code",
   "execution_count": 70,
   "metadata": {},
   "outputs": [
    {
     "name": "stdout",
     "output_type": "stream",
     "text": [
      "animal: 82594 \n",
      "soil: 2744 \n",
      "aquatic: 5777 \n",
      "plant: 25\n"
     ]
    }
   ],
   "source": [
    "print(\"animal: \"+str(animal)+\" \\nsoil: \"+str(soil)+\" \\naquatic: \"+str(aquatic)+\" \\nplant: \"+str(plant))"
   ]
  },
  {
   "cell_type": "code",
   "execution_count": null,
   "metadata": {},
   "outputs": [],
   "source": [
    "#figure out how to get them into a nice table- the ones with an associated trna atleast\n",
    "\n",
    "\n"
   ]
  },
  {
   "cell_type": "code",
   "execution_count": 73,
   "metadata": {},
   "outputs": [
    {
     "data": {
      "text/plain": [
       "['ERR2597485_3043579', 227, 231]"
      ]
     },
     "execution_count": 73,
     "metadata": {},
     "output_type": "execute_result"
    }
   ],
   "source": [
    "newm[3]"
   ]
  },
  {
   "cell_type": "code",
   "execution_count": 55,
   "metadata": {},
   "outputs": [],
   "source": [
    "lets_do_this=pd.DataFrame(columns=[\"ID\",\"trna_nr\",\"trna_start\",\"trna_end\",\"trna_type\",\"codon\",\"ins_start\",\"ins_end\",\"trna_confidence\",\"psuedo\",\"rnarobo_start\",\"rnarobo_end\",\"rnarobo_seq\"])\n",
    "check=0\n",
    "duplicates=[]\n",
    "for nr in range(len(newm)):\n",
    "    match=newm[nr]\n",
    "    lin_df=\"\"\n",
    "    #change to 4: CORRECT\n",
    "    for line in trna[3:]:\n",
    "    #create a dictionary with seq name as key and the starting position as value\n",
    "        line=line.strip().split()\n",
    "        \n",
    "        if match[0]==line[0]:\n",
    "            if len(lin_df.split())==0:\n",
    "                if str(match[2])==line[3]:\n",
    "                    #print(line)\n",
    "                    lin_df+=\" \".join(line)+\" \"\n",
    "                    if lin_df[-2]!=\"o\":\n",
    "                        lin_df+=\"NA \"\n",
    "            else: \n",
    "                duplicates.append(line)\n",
    "    for line in rnarobo[11:-6]:\n",
    "        line=line.replace(\".\",\"_\")\n",
    "        line=line.strip().split()\n",
    "        if len(lin_df.split())<13:\n",
    "\n",
    "            if check==1:\n",
    "                #if len(lin_df.split())<13:\n",
    "                    lin_df+=str(line[0])\n",
    "                    check=0\n",
    "                #else:\n",
    "                        #duplicates.append(line)\n",
    "\n",
    "                #check=0\n",
    "            if str(match[1])==line[0]:\n",
    "                #if len(lin_df.split())<13:\n",
    "                    lin_df+=\" \".join(line[:2])\n",
    "                    lin_df+=\" \"\n",
    "                    check=1\n",
    "            #else:\n",
    "                #duplicates.append(line)\n",
    "                #check=0\n",
    "    lin_f=lin_df.split()\n",
    "    lets_do_this.loc[nr]=np.array(lin_f)\n",
    "    #lets_do_this.iloc[nr,:8]=lin_df[0]\n",
    "    #lets_do_this.iloc[nr,8:-1]=lin_df[1]\n",
    "    #lets_do_this.iloc[nr,-1]=lin_df[2]"
   ]
  },
  {
   "cell_type": "code",
   "execution_count": null,
   "metadata": {},
   "outputs": [],
   "source": [
    "# command to copy all files into one directory, will make the downstream processing way easier. \n",
    "#for x in */*.txt; do cp \"$x\" ../together/ ; done\n",
    "\n",
    "#when in ~/Python/ribozymes/phage_samples/v4/trnascan for example"
   ]
  },
  {
   "cell_type": "code",
   "execution_count": null,
   "metadata": {},
   "outputs": [],
   "source": [
    "# false positive: fake matching!\n",
    "\n",
    "\n"
   ]
  },
  {
   "cell_type": "code",
   "execution_count": 190,
   "metadata": {},
   "outputs": [
    {
     "data": {
      "text/plain": [
       "['95',\n",
       " '40',\n",
       " 'ERR2777863.129831',\n",
       " 'M01601:60:000000000-ANU42:1:2106:25025:21670',\n",
       " 'length=200']"
      ]
     },
     "execution_count": 190,
     "metadata": {},
     "output_type": "execute_result"
    }
   ],
   "source": [
    "dicti"
   ]
  },
  {
   "cell_type": "code",
   "execution_count": 191,
   "metadata": {},
   "outputs": [
    {
     "name": "stdout",
     "output_type": "stream",
     "text": [
      "duplicated but why\n",
      "duplicated but why\n",
      "duplicated but why\n",
      "duplicated but why\n",
      "duplicated but why\n",
      "duplicated but why\n",
      "duplicated but why\n",
      "duplicated but why\n",
      "duplicated but why\n",
      "duplicated but why\n",
      "duplicated but why\n",
      "duplicated but why\n",
      "duplicated but why\n",
      "duplicated but why\n",
      "duplicated but why\n",
      "duplicated but why\n",
      "duplicated but why\n",
      "duplicated but why\n",
      "duplicated but why\n",
      "duplicated but why\n",
      "duplicated but why\n",
      "duplicated but why\n",
      "duplicated but why\n",
      "duplicated but why\n",
      "duplicated but why\n",
      "duplicated but why\n",
      "duplicated but why\n",
      "duplicated but why\n",
      "duplicated but why\n",
      "duplicated but why\n",
      "duplicated but why\n",
      "duplicated but why\n",
      "duplicated but why\n",
      "duplicated but why\n",
      "duplicated but why\n",
      "duplicated but why\n",
      "duplicated but why\n",
      "duplicated but why\n",
      "duplicated but why\n",
      "duplicated but why\n",
      "duplicated but why\n",
      "duplicated but why\n",
      "duplicated but why\n",
      "duplicated but why\n",
      "duplicated but why\n",
      "duplicated but why\n",
      "duplicated but why\n",
      "duplicated but why\n",
      "duplicated but why\n",
      "duplicated but why\n",
      "duplicated but why\n",
      "duplicated but why\n",
      "duplicated but why\n",
      "duplicated but why\n",
      "duplicated but why\n",
      "duplicated but why\n",
      "duplicated but why\n",
      "duplicated but why\n",
      "duplicated but why\n",
      "duplicated but why\n",
      "duplicated but why\n",
      "duplicated but why\n",
      "duplicated but why\n",
      "duplicated but why\n",
      "duplicated but why\n",
      "duplicated but why\n",
      "duplicated but why\n",
      "duplicated but why\n",
      "duplicated but why\n",
      "duplicated but why\n",
      "duplicated but why\n",
      "duplicated but why\n",
      "duplicated but why\n",
      "duplicated but why\n",
      "duplicated but why\n",
      "duplicated but why\n",
      "duplicated but why\n",
      "duplicated but why\n",
      "duplicated but why\n",
      "duplicated but why\n",
      "duplicated but why\n",
      "duplicated but why\n",
      "duplicated but why\n",
      "duplicated but why\n",
      "duplicated but why\n",
      "duplicated but why\n",
      "duplicated but why\n",
      "duplicated but why\n",
      "duplicated but why\n",
      "duplicated but why\n",
      "duplicated but why\n",
      "duplicated but why\n",
      "duplicated but why\n",
      "duplicated but why\n",
      "duplicated but why\n",
      "duplicated but why\n",
      "duplicated but why\n",
      "duplicated but why\n",
      "duplicated but why\n",
      "duplicated but why\n",
      "duplicated but why\n",
      "duplicated but why\n",
      "duplicated but why\n",
      "duplicated but why\n",
      "duplicated but why\n",
      "duplicated but why\n",
      "duplicated but why\n",
      "duplicated but why\n",
      "duplicated but why\n",
      "duplicated but why\n",
      "duplicated but why\n",
      "duplicated but why\n",
      "duplicated but why\n",
      "duplicated but why\n",
      "duplicated but why\n",
      "duplicated but why\n",
      "duplicated but why\n",
      "duplicated but why\n",
      "duplicated but why\n",
      "duplicated but why\n",
      "duplicated but why\n",
      "duplicated but why\n",
      "duplicated but why\n",
      "duplicated but why\n",
      "duplicated but why\n",
      "duplicated but why\n",
      "duplicated but why\n",
      "duplicated but why\n",
      "duplicated but why\n",
      "duplicated but why\n",
      "duplicated but why\n",
      "duplicated but why\n",
      "duplicated but why\n",
      "duplicated but why\n",
      "duplicated but why\n",
      "duplicated but why\n",
      "duplicated but why\n",
      "duplicated but why\n",
      "duplicated but why\n",
      "duplicated but why\n",
      "duplicated but why\n",
      "duplicated but why\n",
      "duplicated but why\n",
      "duplicated but why\n",
      "duplicated but why\n",
      "duplicated but why\n",
      "duplicated but why\n",
      "duplicated but why\n",
      "duplicated but why\n",
      "duplicated but why\n",
      "duplicated but why\n",
      "duplicated but why\n",
      "duplicated but why\n"
     ]
    }
   ],
   "source": [
    "#lists all the files in the directory\n",
    "\n",
    "#57 potenbtially problematic due to double files...\n",
    "\n",
    "dicti_rf={}\n",
    "for nu in range(1,61):\n",
    "    filenames_filt=[]\n",
    "    filenames=os.listdir(\"/mnt/mnemo6/lukas/Python/ribozymes/phage_samples/v4/rnarobo_results/\"+str(nu))\n",
    "    for fi in filenames:\n",
    "        if fi[-3:]==\"txt\":\n",
    "            filenames_filt.append(fi)\n",
    "\n",
    "    for filename in filenames_filt:\n",
    "       with open(os.path.join(\"/mnt/mnemo6/lukas/Python/ribozymes/phage_samples/v4/rnarobo_results/\"+str(nu), filename), 'r') as f: # open in readonly mode\n",
    "          # do your stuff\n",
    "            f_l=f.readlines()\n",
    "            #means at least one ribo was found\n",
    "            if len(f_l)>17:\n",
    "                for linea in f_l[11:-6]:\n",
    "                    if linea[0]!=\"|\":\n",
    "                        #line=linea.replace(\".\",\"_\")\n",
    "                        line=linea.strip().split()\n",
    "                        try:\n",
    "                            if line[2] in dicti_rf:\n",
    "                                dicti_rf[line[2]].append(int(line[1]))\n",
    "                            else:\n",
    "                                dicti_rf[line[2]]=[int(line[1])]\n",
    "                        except: \n",
    "                            print(\"duplicated but why\")\n",
    "\n",
    "\n"
   ]
  },
  {
   "cell_type": "code",
   "execution_count": 6,
   "metadata": {},
   "outputs": [
    {
     "data": {
      "text/plain": [
       "7"
      ]
     },
     "execution_count": 6,
     "metadata": {},
     "output_type": "execute_result"
    }
   ],
   "source": [
    "# so it looks like sometimes the ronarobo results get duplicated, and that in turn leads to trnascan to run wild-> how to fix"
   ]
  },
  {
   "cell_type": "code",
   "execution_count": 96,
   "metadata": {},
   "outputs": [
    {
     "data": {
      "text/plain": [
       "104264"
      ]
     },
     "execution_count": 96,
     "metadata": {},
     "output_type": "execute_result"
    }
   ],
   "source": [
    "len(dicti_r)\n",
    "#Yay"
   ]
  },
  {
   "cell_type": "markdown",
   "metadata": {},
   "source": [
    "\n",
    "#to create dicti of all trnascan files\n",
    "dictif={}\n",
    "for nu2 in range(1,61):\n",
    "    filenames=os.listdir(\"/mnt/mnemo6/lukas/Python/ribozymes/phage_samples/v4/trnascan/\"+str(nu2))\n",
    "    filenames_filt=[]\n",
    " \n",
    "    for fi in filenames:\n",
    "        if fi[-3:]==\"txt\":\n",
    "            filenames_filt.append(fi)\n",
    "    for filename in filenames_filt:\n",
    "        #with open(os.path.join(\"/mnt/mnemo6/lukas/Python/ribozymes/phage_samples/v3_T/trnascan/\"+str(nu), filename), 'r') as f: # open in readonly mode\n",
    "            f=open(\"/mnt/mnemo6/lukas/Python/ribozymes/phage_samples/v4/trnascan/\"+str(nu2)+\"/\"+filename, 'r')\n",
    "           \n",
    "          # do your stuff\n",
    "            f_l=f.readlines()\n",
    "         \n",
    "            #means at least one ribo was found\n",
    "            if len(f_l)>1:\n",
    "                for line in f_l[3:]:\n",
    "                #create a dictionary with seq name as key and the starting position as value\n",
    "                    line=line.strip().split()\n",
    "                    #line[0]=line[0].replace(\".\",\"_\")\n",
    "                    if line[0] in dictif:\n",
    "                        dictif[line[0]].append(int(line[2]))\n",
    "                    else:\n",
    "                        dictif[line[0]]=[int(line[2])]\n",
    "                    "
   ]
  },
  {
   "cell_type": "code",
   "execution_count": 194,
   "metadata": {},
   "outputs": [
    {
     "data": {
      "text/plain": [
       "['ERR2597466.38721', '1', '115', '43', 'Asn', 'ATT', '0', '0', '39.8']"
      ]
     },
     "execution_count": 194,
     "metadata": {},
     "output_type": "execute_result"
    }
   ],
   "source": [
    "line"
   ]
  },
  {
   "cell_type": "code",
   "execution_count": 195,
   "metadata": {},
   "outputs": [],
   "source": [
    "matching_fake=[]\n",
    "for key in dicti_rf:\n",
    "    if key in dicti:\n",
    "        for value in dicti_rf[key]:\n",
    "            for value2 in dicti[key]:\n",
    "                if value-value2 in range(-2,2):\n",
    "                    matching_fake.append([key,value,value2])"
   ]
  },
  {
   "cell_type": "code",
   "execution_count": 196,
   "metadata": {},
   "outputs": [
    {
     "data": {
      "text/plain": [
       "58"
      ]
     },
     "execution_count": 196,
     "metadata": {},
     "output_type": "execute_result"
    }
   ],
   "source": [
    "len(matching_fake)\n",
    "#yay numbero 2"
   ]
  },
  {
   "cell_type": "code",
   "execution_count": null,
   "metadata": {},
   "outputs": [],
   "source": [
    "#wordclouds!!!"
   ]
  },
  {
   "cell_type": "code",
   "execution_count": 197,
   "metadata": {},
   "outputs": [],
   "source": [
    "from wordcloud import WordCloud, STOPWORDS, ImageColorGenerator\n",
    "import datetime"
   ]
  },
  {
   "cell_type": "code",
   "execution_count": 198,
   "metadata": {},
   "outputs": [],
   "source": [
    "stopwords = set(STOPWORDS)\n",
    "stopwords.update([\"nan\",\"raw\",\"association\",\"associ\",\"pl\"])\n",
    "stopwords.update([\"wat\",\"sourcetracker\",\"altamaha\",\"itasca\",\"keywords\",\"wate\",\"ti\",\"gsc\"])"
   ]
  },
  {
   "cell_type": "code",
   "execution_count": 199,
   "metadata": {},
   "outputs": [],
   "source": [
    "def blue_color_func(word, font_size, position, orientation, random_state=None,\n",
    "                    **kwargs):\n",
    "    i=225-int(font_size*1.5)\n",
    "    o=225-int(font_size*1.5)\n",
    "    #return \"RGB(\"+str(o)+\",\"+str(i)+\",255)\" \n",
    "    return \"RGB(2,\"+str(i)+\",125)\""
   ]
  },
  {
   "cell_type": "code",
   "execution_count": 201,
   "metadata": {},
   "outputs": [
    {
     "ename": "KeyboardInterrupt",
     "evalue": "",
     "output_type": "error",
     "traceback": [
      "\u001b[0;31m---------------------------------------------------------------------------\u001b[0m",
      "\u001b[0;31mKeyboardInterrupt\u001b[0m                         Traceback (most recent call last)",
      "\u001b[0;32m<ipython-input-201-aac341837933>\u001b[0m in \u001b[0;36m<module>\u001b[0;34m\u001b[0m\n\u001b[1;32m      2\u001b[0m \u001b[0;32mfor\u001b[0m \u001b[0mrow\u001b[0m \u001b[0;32min\u001b[0m \u001b[0mrange\u001b[0m\u001b[0;34m(\u001b[0m\u001b[0mlen\u001b[0m\u001b[0;34m(\u001b[0m\u001b[0mkeyw\u001b[0m\u001b[0;34m)\u001b[0m\u001b[0;34m)\u001b[0m\u001b[0;34m:\u001b[0m\u001b[0;34m\u001b[0m\u001b[0;34m\u001b[0m\u001b[0m\n\u001b[1;32m      3\u001b[0m     \u001b[0mconcaten\u001b[0m\u001b[0;34m=\u001b[0m\u001b[0;34m[\u001b[0m\u001b[0;34m]\u001b[0m\u001b[0;34m\u001b[0m\u001b[0;34m\u001b[0m\u001b[0m\n\u001b[0;32m----> 4\u001b[0;31m     \u001b[0;32mfor\u001b[0m \u001b[0mword\u001b[0m \u001b[0;32min\u001b[0m \u001b[0mkeyw\u001b[0m\u001b[0;34m[\u001b[0m\u001b[0;36m4\u001b[0m\u001b[0;34m]\u001b[0m\u001b[0;34m.\u001b[0m\u001b[0mtolist\u001b[0m\u001b[0;34m(\u001b[0m\u001b[0;34m)\u001b[0m\u001b[0;34m[\u001b[0m\u001b[0mrow\u001b[0m\u001b[0;34m]\u001b[0m\u001b[0;34m.\u001b[0m\u001b[0msplit\u001b[0m\u001b[0;34m(\u001b[0m\u001b[0msep\u001b[0m\u001b[0;34m=\u001b[0m\u001b[0;34m\",\"\u001b[0m\u001b[0;34m)\u001b[0m\u001b[0;34m:\u001b[0m\u001b[0;34m\u001b[0m\u001b[0;34m\u001b[0m\u001b[0m\n\u001b[0m\u001b[1;32m      5\u001b[0m \u001b[0;34m\u001b[0m\u001b[0m\n\u001b[1;32m      6\u001b[0m         \u001b[0;32mif\u001b[0m \u001b[0mlen\u001b[0m\u001b[0;34m(\u001b[0m\u001b[0mword\u001b[0m\u001b[0;34m)\u001b[0m\u001b[0;34m>\u001b[0m\u001b[0;36m2\u001b[0m\u001b[0;34m:\u001b[0m\u001b[0;34m\u001b[0m\u001b[0;34m\u001b[0m\u001b[0m\n",
      "\u001b[0;31mKeyboardInterrupt\u001b[0m: "
     ]
    }
   ],
   "source": [
    "#Lets remove keywords with a length of under 2 characters: Only trash anyway!\n",
    "for row in range(len(keyw)):\n",
    "    concaten=[]\n",
    "    for word in keyw[4].tolist()[row].split(sep=\",\"):\n",
    "\n",
    "        if len(word)>2:\n",
    "            #dosomething\n",
    "            concaten.append(word)\n",
    "            #print(word)\n",
    "    keyw.iloc[row,4]=\",\".join(concaten)"
   ]
  },
  {
   "cell_type": "code",
   "execution_count": 203,
   "metadata": {},
   "outputs": [],
   "source": [
    "keyw_2=keyw\n",
    "\n",
    "keyw_2.index=ind"
   ]
  },
  {
   "cell_type": "code",
   "execution_count": 206,
   "metadata": {},
   "outputs": [
    {
     "data": {
      "text/html": [
       "<div>\n",
       "<style scoped>\n",
       "    .dataframe tbody tr th:only-of-type {\n",
       "        vertical-align: middle;\n",
       "    }\n",
       "\n",
       "    .dataframe tbody tr th {\n",
       "        vertical-align: top;\n",
       "    }\n",
       "\n",
       "    .dataframe thead th {\n",
       "        text-align: right;\n",
       "    }\n",
       "</style>\n",
       "<table border=\"1\" class=\"dataframe\">\n",
       "  <thead>\n",
       "    <tr style=\"text-align: right;\">\n",
       "      <th></th>\n",
       "      <th>0</th>\n",
       "      <th>1</th>\n",
       "      <th>2</th>\n",
       "      <th>3</th>\n",
       "      <th>4</th>\n",
       "      <th>5</th>\n",
       "      <th>6</th>\n",
       "      <th>7</th>\n",
       "      <th>8</th>\n",
       "    </tr>\n",
       "  </thead>\n",
       "  <tbody>\n",
       "    <tr>\n",
       "      <th>SRR7802516</th>\n",
       "      <td>SRR7802516.SRS3751739</td>\n",
       "      <td>animal;human</td>\n",
       "      <td>infection</td>\n",
       "      <td></td>\n",
       "      <td>adenovirus,hbv,hepatitis,hepatocytes,human,inf...</td>\n",
       "      <td></td>\n",
       "      <td>SRP160101</td>\n",
       "      <td></td>\n",
       "      <td></td>\n",
       "    </tr>\n",
       "    <tr>\n",
       "      <th>SRR6764573</th>\n",
       "      <td>SRR6764573.SRS2992533</td>\n",
       "      <td>soil;field|plant;rhizosphere</td>\n",
       "      <td></td>\n",
       "      <td>AMPLICON</td>\n",
       "      <td>drought,dry,epicon,field,plant,root,sorghum</td>\n",
       "      <td></td>\n",
       "      <td>SRP133339</td>\n",
       "      <td></td>\n",
       "      <td></td>\n",
       "    </tr>\n",
       "    <tr>\n",
       "      <th>SRR2093759</th>\n",
       "      <td>SRR2093759.SRS984908</td>\n",
       "      <td>animal;mouse</td>\n",
       "      <td>gut;disease</td>\n",
       "      <td>AMPLICON</td>\n",
       "      <td>antibiotic,cecum,disease,gastrointestinal trac...</td>\n",
       "      <td></td>\n",
       "      <td>SRP060527</td>\n",
       "      <td></td>\n",
       "      <td>42.2820973 -83.7338904</td>\n",
       "    </tr>\n",
       "    <tr>\n",
       "      <th>SRR618990</th>\n",
       "      <td>SRR618990.SRS375839</td>\n",
       "      <td></td>\n",
       "      <td></td>\n",
       "      <td>AMPLICON</td>\n",
       "      <td>hydrocarbon</td>\n",
       "      <td></td>\n",
       "      <td>SRP017194</td>\n",
       "      <td></td>\n",
       "      <td></td>\n",
       "    </tr>\n",
       "    <tr>\n",
       "      <th>SRR961676</th>\n",
       "      <td>SRR961676.SRS475488</td>\n",
       "      <td>aquatic;marine</td>\n",
       "      <td></td>\n",
       "      <td>WGS</td>\n",
       "      <td>marine,oxygen,picoplankton,plankton,size-fract...</td>\n",
       "      <td></td>\n",
       "      <td>SRP029388</td>\n",
       "      <td></td>\n",
       "      <td></td>\n",
       "    </tr>\n",
       "    <tr>\n",
       "      <th>...</th>\n",
       "      <td>...</td>\n",
       "      <td>...</td>\n",
       "      <td>...</td>\n",
       "      <td>...</td>\n",
       "      <td>...</td>\n",
       "      <td>...</td>\n",
       "      <td>...</td>\n",
       "      <td>...</td>\n",
       "      <td>...</td>\n",
       "    </tr>\n",
       "    <tr>\n",
       "      <th>SRR6323315</th>\n",
       "      <td>SRR6323315.SRS2714555</td>\n",
       "      <td>animal|plant</td>\n",
       "      <td>gut</td>\n",
       "      <td>WGS</td>\n",
       "      <td>alkaloid,antibiotic,bird,gastrointestinal trac...</td>\n",
       "      <td></td>\n",
       "      <td>SRP125653</td>\n",
       "      <td></td>\n",
       "      <td></td>\n",
       "    </tr>\n",
       "    <tr>\n",
       "      <th>SRR1966467</th>\n",
       "      <td>SRR1966467.SRS903103</td>\n",
       "      <td>animal</td>\n",
       "      <td>healthy;typhoid fever</td>\n",
       "      <td>WGS</td>\n",
       "      <td>blood,healthy,typhoid fever</td>\n",
       "      <td></td>\n",
       "      <td>SRP042645</td>\n",
       "      <td></td>\n",
       "      <td></td>\n",
       "    </tr>\n",
       "    <tr>\n",
       "      <th>SRR10912871</th>\n",
       "      <td>SRR10912871.SRS6014526</td>\n",
       "      <td></td>\n",
       "      <td></td>\n",
       "      <td>AMPLICON</td>\n",
       "      <td>polar</td>\n",
       "      <td></td>\n",
       "      <td>SRP242672</td>\n",
       "      <td></td>\n",
       "      <td>39.3 139.65</td>\n",
       "    </tr>\n",
       "    <tr>\n",
       "      <th>SRR6054149</th>\n",
       "      <td>SRR6054149.SRS2528061</td>\n",
       "      <td></td>\n",
       "      <td></td>\n",
       "      <td>WGS</td>\n",
       "      <td>pulsenet</td>\n",
       "      <td></td>\n",
       "      <td>SRP040281</td>\n",
       "      <td></td>\n",
       "      <td></td>\n",
       "    </tr>\n",
       "    <tr>\n",
       "      <th>ERR2355478</th>\n",
       "      <td>ERR2355478.ERS2255600</td>\n",
       "      <td></td>\n",
       "      <td>lung;disease</td>\n",
       "      <td>AMPLICON</td>\n",
       "      <td>disease,esophagus,host</td>\n",
       "      <td></td>\n",
       "      <td>ERP107132</td>\n",
       "      <td></td>\n",
       "      <td></td>\n",
       "    </tr>\n",
       "  </tbody>\n",
       "</table>\n",
       "<p>2174192 rows × 9 columns</p>\n",
       "</div>"
      ],
      "text/plain": [
       "                                  0                             1  \\\n",
       "SRR7802516    SRR7802516.SRS3751739                  animal;human   \n",
       "SRR6764573    SRR6764573.SRS2992533  soil;field|plant;rhizosphere   \n",
       "SRR2093759     SRR2093759.SRS984908                  animal;mouse   \n",
       "SRR618990       SRR618990.SRS375839                                 \n",
       "SRR961676       SRR961676.SRS475488                aquatic;marine   \n",
       "...                             ...                           ...   \n",
       "SRR6323315    SRR6323315.SRS2714555                  animal|plant   \n",
       "SRR1966467     SRR1966467.SRS903103                        animal   \n",
       "SRR10912871  SRR10912871.SRS6014526                                 \n",
       "SRR6054149    SRR6054149.SRS2528061                                 \n",
       "ERR2355478    ERR2355478.ERS2255600                                 \n",
       "\n",
       "                                 2         3  \\\n",
       "SRR7802516               infection             \n",
       "SRR6764573                          AMPLICON   \n",
       "SRR2093759             gut;disease  AMPLICON   \n",
       "SRR618990                           AMPLICON   \n",
       "SRR961676                                WGS   \n",
       "...                            ...       ...   \n",
       "SRR6323315                     gut       WGS   \n",
       "SRR1966467   healthy;typhoid fever       WGS   \n",
       "SRR10912871                         AMPLICON   \n",
       "SRR6054149                               WGS   \n",
       "ERR2355478            lung;disease  AMPLICON   \n",
       "\n",
       "                                                             4 5           6  \\\n",
       "SRR7802516   adenovirus,hbv,hepatitis,hepatocytes,human,inf...     SRP160101   \n",
       "SRR6764573         drought,dry,epicon,field,plant,root,sorghum     SRP133339   \n",
       "SRR2093759   antibiotic,cecum,disease,gastrointestinal trac...     SRP060527   \n",
       "SRR618990                                          hydrocarbon     SRP017194   \n",
       "SRR961676    marine,oxygen,picoplankton,plankton,size-fract...     SRP029388   \n",
       "...                                                        ... ..        ...   \n",
       "SRR6323315   alkaloid,antibiotic,bird,gastrointestinal trac...     SRP125653   \n",
       "SRR1966467                         blood,healthy,typhoid fever     SRP042645   \n",
       "SRR10912871                                              polar     SRP242672   \n",
       "SRR6054149                                            pulsenet     SRP040281   \n",
       "ERR2355478                              disease,esophagus,host     ERP107132   \n",
       "\n",
       "            7                        8  \n",
       "SRR7802516                              \n",
       "SRR6764573                              \n",
       "SRR2093759      42.2820973 -83.7338904  \n",
       "SRR618990                               \n",
       "SRR961676                               \n",
       "...         ..                     ...  \n",
       "SRR6323315                              \n",
       "SRR1966467                              \n",
       "SRR10912871                39.3 139.65  \n",
       "SRR6054149                              \n",
       "ERR2355478                              \n",
       "\n",
       "[2174192 rows x 9 columns]"
      ]
     },
     "execution_count": 206,
     "metadata": {},
     "output_type": "execute_result"
    }
   ],
   "source": [
    "keyw_2"
   ]
  },
  {
   "cell_type": "code",
   "execution_count": null,
   "metadata": {},
   "outputs": [
    {
     "name": "stdout",
     "output_type": "stream",
     "text": [
      "SRR5007456 not found\n"
     ]
    }
   ],
   "source": [
    "words=[]\n",
    "for sa in samples2:\n",
    "    try:\n",
    "        words.append(keyw_2.loc[sa,4])\n",
    "    except:\n",
    "        print(sa+\" not found\")"
   ]
  },
  {
   "cell_type": "code",
   "execution_count": 215,
   "metadata": {},
   "outputs": [
    {
     "data": {
      "text/plain": [
       "<wordcloud.wordcloud.WordCloud at 0x7feaded1a750>"
      ]
     },
     "execution_count": 215,
     "metadata": {},
     "output_type": "execute_result"
    }
   ],
   "source": [
    "#z=tabl.getcol(19036).nonzero()\n",
    "#kw=keyw.iloc[z[0],4]\n",
    "WordCloud(font_path=\"/mnt/mnemo6/lukas/Python/janko/font/arial.ttf\", color_func=blue_color_func,stopwords=stopwords,prefer_horizontal=1, min_font_size=10, max_font_size=150, relative_scaling=.4, width=1000, collocations=False,height=400, max_words=15, random_state=1, background_color=\"white\").generate(str(words).replace(\"'\",\"\")).to_file(\"wordclouds_all.png\")\n",
    "#print(datetime.datetime.now() - begin_time)"
   ]
  },
  {
   "cell_type": "code",
   "execution_count": 217,
   "metadata": {},
   "outputs": [],
   "source": [
    "#lets check how many of the samples where actually found\n",
    "\n",
    "from os.path import exists"
   ]
  },
  {
   "cell_type": "code",
   "execution_count": 251,
   "metadata": {},
   "outputs": [],
   "source": [
    "count=0\n",
    "noncount=0\n",
    "existing_files=[]\n",
    "f=open(\"wgs_sample_paths.txt\")\n",
    "fl=f.readlines()\n",
    "for line in fl:\n",
    "    if exists(line.strip()):\n",
    "        count+=1\n",
    "        existing_files.append(line.strip().split(\"/\")[-1])\n",
    "    else:\n",
    "        noncount+=1"
   ]
  },
  {
   "cell_type": "code",
   "execution_count": 248,
   "metadata": {},
   "outputs": [
    {
     "data": {
      "text/plain": [
       "                                                             1720\n",
       "GAATAGCAAATGAGAAACCTCCACGTGGTGCTATTCGGGTAACGCTAATTCTCAT       491\n",
       "GACATCTAAAGAGAATACCTCCACGTGGTAGATGTTGGGTAACGCTAAATTCTCT       390\n",
       "GACTTACATAGAAAGAACCTCCACGTGGTGTAAGTTGGGTAATGCTAATCTTTCT       262\n",
       "GAATGTACATGATAGTAACCTCCACGCGGTTACATTTGGGTTATGCTAATGACTATC     227\n",
       "                                                             ... \n",
       "GAGCTACACTTAATCAGCCTCCACGTGGCGTAGCTTGGGTAACGCTAATGATTAA         1\n",
       "GATAGAAAAGTGCAAAACCTCCACGCGGTTTCTATCGGGTAACGCTAATTTGCAT         1\n",
       "GGGATACAAATAAGCAGCCTTCACGTGGCGTATCCTGATTTCGACTGATAGCTTAT        1\n",
       "GACATCTAAAGAGAATACCTCCACGTGGTAGATGTTGGGTTTCGCTAAATTCTCT         1\n",
       "GGAACACAAAATATGTACCTCCACGCGGTGTGTTCTGGGTAACGCGAAACATATT         1\n",
       "Name: ribozyme_control, Length: 1852, dtype: int64"
      ]
     },
     "execution_count": 248,
     "metadata": {},
     "output_type": "execute_result"
    }
   ],
   "source": [
    "fff[\"ribozyme_control\"].value_counts()\n",
    "#okay, we need to reinvestigate: why do we have empty controls?!\n",
    "#soo. when the control is empty, they go in the opposite side! Can it cut also there?"
   ]
  },
  {
   "cell_type": "code",
   "execution_count": 254,
   "metadata": {},
   "outputs": [],
   "source": [
    "ff=fff[fff[\"ribozyme_control\"]!=\"\"]"
   ]
  },
  {
   "cell_type": "code",
   "execution_count": 258,
   "metadata": {},
   "outputs": [
    {
     "data": {
      "text/plain": [
       "Met      3803\n",
       "Sup      2158\n",
       "Leu      1351\n",
       "Gln       543\n",
       "Undet     542\n",
       "Ser       456\n",
       "Pro       358\n",
       "Glu       279\n",
       "Lys       170\n",
       "Asn       141\n",
       "Thr       135\n",
       "Arg       128\n",
       "Trp        93\n",
       "Ala        75\n",
       "Ile        45\n",
       "Val        41\n",
       "Cys        33\n",
       "Asp        32\n",
       "His        19\n",
       "Tyr        15\n",
       "Gly        13\n",
       "Phe         8\n",
       "Name: trna_type, dtype: int64"
      ]
     },
     "execution_count": 258,
     "metadata": {},
     "output_type": "execute_result"
    }
   ],
   "source": [
    "ff[\"trna_type\"].value_counts()"
   ]
  },
  {
   "cell_type": "code",
   "execution_count": 283,
   "metadata": {},
   "outputs": [
    {
     "data": {
      "text/plain": [
       "GACGTTCAATGTGTCAACCTTCTCGTGGTGAACGTTGAGTAACGCTAATAGACACA    2\n",
       "GAAACACAAGATTGAAACCTCCACGTGGTGTGTTTTGGGTAAAGCTAATTCAATG     2\n",
       "GAGACACAATCAATCACCTCCACGCGGTGTGTCTTGGTTAATACTAACGATTGAA     2\n",
       "GGACACGTTTAATTGTACCTTCTCGTGGTGTGTCTGATTTCGACTAAAACAATTA     2\n",
       "GGCTACATATTAGAACCTCCACGTGGTGTAGCTGGATTTAAACTAATTCTAATA      2\n",
       "                                                           ..\n",
       "GACTCACATAGTAAGAACCTTCACGTGGTGTGAGTTGAGTAACGCTAATCTTACA     1\n",
       "GATAGAAAAGTGCAAAACCTCCACGCGGTTTCTATCGGGTAACGCTAATTTGCAT     1\n",
       "GGGATACAAATAAGCAGCCTTCACGTGGCGTATCCTGATTTCGACTGATAGCTTAT    1\n",
       "GACATCTAAAGAGAATACCTCCACGTGGTAGATGTTGGGTTTCGCTAAATTCTCT     1\n",
       "GAATAGCGTAAGTAGAAACCTCCACGTGGTGCTATTTGGGTAACGCTAATTCT       1\n",
       "Name: ribozyme_control, Length: 1351, dtype: int64"
      ]
     },
     "execution_count": 283,
     "metadata": {},
     "output_type": "execute_result"
    }
   ],
   "source": [
    "ff[\"ribozyme_control\"].value_counts()[500:]"
   ]
  },
  {
   "cell_type": "code",
   "execution_count": 286,
   "metadata": {},
   "outputs": [
    {
     "data": {
      "text/plain": [
       "CTA    2151\n",
       "TTA       5\n",
       "TCA       2\n",
       "Name: codon, dtype: int64"
      ]
     },
     "execution_count": 286,
     "metadata": {},
     "output_type": "execute_result"
    }
   ],
   "source": [
    "ff[ff[\"trna_type\"]==\"Sup\"][\"codon\"].value_counts()"
   ]
  },
  {
   "cell_type": "code",
   "execution_count": 259,
   "metadata": {},
   "outputs": [],
   "source": [
    "y=ff[\"trna_type\"].value_counts()"
   ]
  },
  {
   "cell_type": "code",
   "execution_count": 271,
   "metadata": {},
   "outputs": [],
   "source": [
    "plt.rcParams[\"figure.figsize\"] = (5,4)"
   ]
  },
  {
   "cell_type": "code",
   "execution_count": 261,
   "metadata": {},
   "outputs": [
    {
     "data": {
      "text/plain": [
       "<BarContainer object of 22 artists>"
      ]
     },
     "execution_count": 261,
     "metadata": {},
     "output_type": "execute_result"
    },
    {
     "data": {
      "image/png": "[encoded data removed]",
      "text/plain": [
       "<Figure size 1440x720 with 1 Axes>"
      ]
     },
     "metadata": {
      "needs_background": "light"
     },
     "output_type": "display_data"
    }
   ],
   "source": [
    "plt.bar(range(22),y,tick_label=y.index)\n"
   ]
  },
  {
   "cell_type": "code",
   "execution_count": 262,
   "metadata": {},
   "outputs": [],
   "source": [
    "#quickly create graphs for presentation about old false positive\n",
    "\n",
    "numbers=[4668,3565,3307,4715]\n",
    "char=[\"C\",\"G\",\"A\",\"T\"]"
   ]
  },
  {
   "cell_type": "code",
   "execution_count": 272,
   "metadata": {},
   "outputs": [
    {
     "data": {
      "text/plain": [
       "<BarContainer object of 4 artists>"
      ]
     },
     "execution_count": 272,
     "metadata": {},
     "output_type": "execute_result"
    },
    {
     "data": {
      "image/png": "[encoded data removed]",
      "text/plain": [
       "<Figure size 360x288 with 1 Axes>"
      ]
     },
     "metadata": {
      "needs_background": "light"
     },
     "output_type": "display_data"
    }
   ],
   "source": [
    "plt.bar(range(4),numbers,tick_label=char,color=(\"green\",\"red\",\"red\",\"red\"))\n"
   ]
  },
  {
   "cell_type": "code",
   "execution_count": null,
   "metadata": {},
   "outputs": [],
   "source": []
  },
  {
   "cell_type": "code",
   "execution_count": 280,
   "metadata": {},
   "outputs": [],
   "source": [
    "df1str=ff.to_csv(sep=\"\\t\",index=False)\n",
    "f= open(\"all_WGS_ribo_trna_v2.csv\",\"w+\")\n",
    "f.write(df1str)\n",
    "f.close()"
   ]
  }
 ],
 "metadata": {
  "kernelspec": {
   "display_name": "Python 3",
   "language": "python",
   "name": "python3"
  },
  "language_info": {
   "codemirror_mode": {
    "name": "ipython",
    "version": 3
   },
   "file_extension": ".py",
   "mimetype": "text/x-python",
   "name": "python",
   "nbconvert_exporter": "python",
   "pygments_lexer": "ipython3",
   "version": "3.7.6"
  }
 },
 "nbformat": 4,
 "nbformat_minor": 4
}
