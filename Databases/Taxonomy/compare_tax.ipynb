{
 "cells": [
  {
   "cell_type": "code",
   "execution_count": null,
   "metadata": {},
   "outputs": [],
   "source": [
    "# Import the pandas library\n",
    "import pandas as pd\n",
    "\n",
    "#the file with all tRNA associated thetas\n",
    "small=pd.read_csv(\"taxonomy_contigs_with_ribo.tsv\",sep=\"\\t\")\n",
    "#the taxonomy file for all investigates phages\n",
    "big=pd.read_csv(\"taxonomy_allcontigs.tsv\",sep=\"\\t\",low_memory=False)\n",
    "#the file with all delta ribozymes\n",
    "all_delta=pd.read_csv(\"all_delta.tsv\",sep=\"\\t\")\n",
    "\n",
    "# Count the frequency of each taxonomy group in the \"big\", \"small\", and \"all_delta\" DataFrames and store the results in \"bigc\", \"smallc\", and \"deltac\", respectively\n",
    "bigc=big[\"taxonomy\"].value_counts()\n",
    "smallc=small[\"taxonomy\"].value_counts()\n",
    "deltac=all_delta[\"taxonomy\"].value_counts()\n",
    "\n",
    "# Create a DataFrame for plotting with columns \"Tax\", \"counts_small\", \"counts_big\", and \"counts_delta\"\n",
    "graph_df_small=pd.DataFrame(columns=[\"Tax\",\"counts_small\"])\n",
    "graph_df_big=pd.DataFrame(columns=[\"Tax\",\"counts_big\"])\n",
    "graph_df_delta=pd.DataFrame(columns=[\"Tax\",\"counts_delta\"])\n",
    "\n",
    "# Set the \"Tax\" column of the \"graph_df_small\", \"graph_df_big\", and \"graph_df_delta\" DataFrames to the index of \"smallc\", \"bigc\", and \"deltac\", respectively\n",
    "graph_df_small[\"Tax\"]=smallc.index\n",
    "graph_df_big[\"Tax\"]=bigc.index\n",
    "graph_df_delta[\"Tax\"]=deltac.index\n",
    "\n",
    "# Set the \"counts_small\", \"counts_big\", and \"counts_delta\" columns of the \"graph_df_small\", \"graph_df_big\", and \"graph_df_delta\" DataFrames to the values of \"smallc\", \"bigc\", and \"deltac\", respectively\n",
    "graph_df_small[\"counts_small\"]=smallc.values\n",
    "graph_df_big[\"counts_big\"]=bigc.values\n",
    "graph_df_delta[\"counts_delta\"]=deltac.values\n",
    "\n",
    "# Merge the \"graph_df_big\", \"graph_df_small\", and \"graph_df_delta\" DataFrames on the \"Tax\" column and store the result in the \"graph_df_comb\" variable\n",
    "graph_df_comb1=graph_df_big.merge(graph_df_small,on=\"Tax\",how=\"outer\")\n",
    "graph_df_comb=graph_df_comb1.merge(graph_df_delta,on=\"Tax\",how=\"outer\")"
   ]
  },
  {
   "cell_type": "code",
   "execution_count": null,
   "metadata": {},
   "outputs": [],
   "source": [
    "# Replace any NaN values in the \"counts_small\" column of the \"graph_df_comb\" DataFrame with 0\n",
    "graph_df_comb[\"counts_small\"]=graph_df_comb['counts_small'].fillna(0)\n",
    "\n",
    "# Replace any NaN values in the \"counts_delta\" column of the \"graph_df_comb\" DataFrame with 0\n",
    "graph_df_comb[\"counts_delta\"]=graph_df_comb['counts_delta'].fillna(0)\n",
    "\n",
    "# Sort the rows of the \"graph_df_comb\" DataFrame by the values in the \"counts_big\" column in descending order\n",
    "graph_df_comb.sort_values(by=[\"counts_big\"],ascending=False,inplace=True)\n",
    "\n",
    "# Reset the index of the \"graph_df_comb\" DataFrame\n",
    "graph_df_comb.reset_index(drop=True,inplace=True)\n",
    "\n",
    "# Select the rows of the \"graph_df_comb\" DataFrame from index 8 to the end and store the result in the \"graph_rest\" variable\n",
    "graph_rest=graph_df_comb.iloc[8:]\n",
    "\n",
    "# Select the top 9 rows of the \"graph_df_comb\" DataFrame and store the result in the \"graph\" variable\n",
    "graph=graph_df_comb.iloc[:9]\n",
    "\n",
    "# Add a new row to the \"graph\" DataFrame with the label \"Other\" and the sum of the values in the \"counts_big\", \"counts_small\", and \"counts_delta\" columns of the \"graph_rest\" DataFrame\n",
    "graph.loc[10,\"Tax\"]=\"Other\"\n",
    "graph.loc[10,\"counts_big\"]=sum(graph_rest[\"counts_big\"])\n",
    "graph.loc[10,\"counts_small\"]=sum(graph_rest[\"counts_small\"])\n",
    "graph.loc[10,\"counts_delta\"]=sum(graph_rest[\"counts_delta\"])\n",
    "\n",
    "# Convert the \"graph\" DataFrame to a TSV string and write it to a file named \"top10_viral_taxonomies_v2.csv\"\n",
    "df1str=graph.to_csv(sep=\"\\t\",index=False)\n",
    "f= open(\"top10_viral_taxonomies_v2.csv\",\"w+\")\n",
    "f.write(df1str)\n",
    "f.close()"
   ]
  }
 ],
 "metadata": {
  "kernelspec": {
   "display_name": "Python 3",
   "language": "python",
   "name": "python3"
  },
  "language_info": {
   "codemirror_mode": {
    "name": "ipython",
    "version": 3
   },
   "file_extension": ".py",
   "mimetype": "text/x-python",
   "name": "python",
   "nbconvert_exporter": "python",
   "pygments_lexer": "ipython3",
   "version": "3.7.6"
  }
 },
 "nbformat": 4,
 "nbformat_minor": 4
}
