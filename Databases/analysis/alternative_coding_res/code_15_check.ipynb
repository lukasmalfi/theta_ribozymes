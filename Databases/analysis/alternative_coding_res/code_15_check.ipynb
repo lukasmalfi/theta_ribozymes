{
 "cells": [
  {
   "cell_type": "code",
   "execution_count": 1,
   "metadata": {},
   "outputs": [],
   "source": [
    "import pandas as pd"
   ]
  },
  {
   "cell_type": "code",
   "execution_count": 8,
   "metadata": {},
   "outputs": [],
   "source": [
    "theta=pd.read_csv(\"../tables_and_result/comb_trna_seq_plus_ribo_fix_march.csv\",sep=\"\\t\")"
   ]
  },
  {
   "cell_type": "code",
   "execution_count": 4,
   "metadata": {},
   "outputs": [],
   "source": [
    "codings=pd.read_csv(\"./output/CD_analysis.csv\",sep=\",\")"
   ]
  },
  {
   "cell_type": "code",
   "execution_count": 9,
   "metadata": {},
   "outputs": [],
   "source": [
    "combi=theta.merge(codings, left_on='ID', right_on='Scaffold',how=\"left\")"
   ]
  },
  {
   "cell_type": "code",
   "execution_count": 13,
   "metadata": {},
   "outputs": [
    {
     "data": {
      "text/plain": [
       "11    1257\n",
       "15     697\n",
       "4      116\n",
       "Name: pred_code, dtype: int64"
      ]
     },
     "execution_count": 13,
     "metadata": {},
     "output_type": "execute_result"
    }
   ],
   "source": [
    "#the value counts of all contigs where we find a ribozyme\n",
    "codings[\"pred_code\"].value_counts()"
   ]
  },
  {
   "cell_type": "code",
   "execution_count": 15,
   "metadata": {},
   "outputs": [
    {
     "data": {
      "text/plain": [
       "15    393\n",
       "11    304\n",
       "4      45\n",
       "Name: pred_code, dtype: int64"
      ]
     },
     "execution_count": 15,
     "metadata": {},
     "output_type": "execute_result"
    }
   ],
   "source": [
    "#the value counts of all contigs where we find a THETA ribozyme\n",
    "combi[\"pred_code\"].value_counts()"
   ]
  },
  {
   "cell_type": "code",
   "execution_count": 16,
   "metadata": {},
   "outputs": [
    {
     "data": {
      "text/plain": [
       "15    80\n",
       "11     3\n",
       "Name: pred_code, dtype: int64"
      ]
     },
     "execution_count": 16,
     "metadata": {},
     "output_type": "execute_result"
    }
   ],
   "source": [
    "#all the sup trnas\n",
    "combi[combi[\"trna_type\"]==\"Sup\"][\"pred_code\"].value_counts()"
   ]
  },
  {
   "cell_type": "code",
   "execution_count": 18,
   "metadata": {},
   "outputs": [
    {
     "data": {
      "text/plain": [
       "Leu      149\n",
       "Met      109\n",
       "Sup       80\n",
       "Pro       17\n",
       "Lys       13\n",
       "Trp       11\n",
       "Undet      5\n",
       "Ser        4\n",
       "Cys        3\n",
       "Gln        1\n",
       "Glu        1\n",
       "Name: trna_type, dtype: int64"
      ]
     },
     "execution_count": 18,
     "metadata": {},
     "output_type": "execute_result"
    }
   ],
   "source": [
    "#all code 15 genomes and the associated trnas\n",
    "combi[combi[\"pred_code\"]==15][\"trna_type\"].value_counts()"
   ]
  },
  {
   "cell_type": "code",
   "execution_count": 19,
   "metadata": {},
   "outputs": [
    {
     "data": {
      "text/plain": [
       "Met      207\n",
       "Val       33\n",
       "Leu       24\n",
       "Thr       10\n",
       "Glu        6\n",
       "Pro        5\n",
       "Ala        4\n",
       "Gln        3\n",
       "Sup        3\n",
       "His        3\n",
       "Asn        1\n",
       "Gly        1\n",
       "Undet      1\n",
       "Lys        1\n",
       "Ser        1\n",
       "Trp        1\n",
       "Name: trna_type, dtype: int64"
      ]
     },
     "execution_count": 19,
     "metadata": {},
     "output_type": "execute_result"
    }
   ],
   "source": [
    "#all code 15 genomes and the associated trnas\n",
    "combi[combi[\"pred_code\"]==11][\"trna_type\"].value_counts()"
   ]
  },
  {
   "cell_type": "code",
   "execution_count": 20,
   "metadata": {},
   "outputs": [
    {
     "data": {
      "text/plain": [
       "Met    43\n",
       "Leu     1\n",
       "Ala     1\n",
       "Name: trna_type, dtype: int64"
      ]
     },
     "execution_count": 20,
     "metadata": {},
     "output_type": "execute_result"
    }
   ],
   "source": [
    "#all code 15 genomes and the associated trnas\n",
    "combi[combi[\"pred_code\"]==4][\"trna_type\"].value_counts()"
   ]
  },
  {
   "cell_type": "code",
   "execution_count": 21,
   "metadata": {},
   "outputs": [],
   "source": [
    "codings_all=pd.read_csv(\"/mnt/mnemo6/lukas/Python/ribozymes/github/theta_ribozymes/Databases/analysis/alternative_coding_res/full_db/output/CD_analysis.csv\",sep=\",\")"
   ]
  },
  {
   "cell_type": "code",
   "execution_count": 24,
   "metadata": {},
   "outputs": [],
   "source": [
    "codings_all2=codings_all[~codings_all[\"Code15_CD\"].isna()]"
   ]
  },
  {
   "cell_type": "code",
   "execution_count": 25,
   "metadata": {},
   "outputs": [
    {
     "data": {
      "text/plain": [
       "11    92305\n",
       "15     1297\n",
       "4       439\n",
       "Name: pred_code, dtype: int64"
      ]
     },
     "execution_count": 25,
     "metadata": {},
     "output_type": "execute_result"
    }
   ],
   "source": [
    "codings_all2[\"pred_code\"].value_counts()"
   ]
  }
 ],
 "metadata": {
  "kernelspec": {
   "display_name": "Python 3",
   "language": "python",
   "name": "python3"
  },
  "language_info": {
   "codemirror_mode": {
    "name": "ipython",
    "version": 3
   },
   "file_extension": ".py",
   "mimetype": "text/x-python",
   "name": "python",
   "nbconvert_exporter": "python",
   "pygments_lexer": "ipython3",
   "version": "3.7.6"
  }
 },
 "nbformat": 4,
 "nbformat_minor": 4
}
