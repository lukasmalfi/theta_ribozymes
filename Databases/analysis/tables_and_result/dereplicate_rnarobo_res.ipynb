{
 "cells": [
  {
   "cell_type": "code",
   "execution_count": null,
   "metadata": {},
   "outputs": [],
   "source": []
  },
  {
   "cell_type": "code",
   "execution_count": 13,
   "metadata": {},
   "outputs": [],
   "source": [
    "rnarobo_=open(\"../falsepositive/fourth/C/comb_rnarobo_result_precise.txt\")\n",
    "rnarobo=rnarobo_.readlines()\n",
    "rnarobo_.close()"
   ]
  },
  {
   "cell_type": "code",
   "execution_count": 14,
   "metadata": {},
   "outputs": [],
   "source": [
    "#the database 8(IMG/VR3) also contains MGV and UGV databases: To reduce redundancy, let's remove allm ribozymes that are not unique to it.\n",
    "#from line 2070 onwards: database 8\n",
    "db8_ribos=rnarobo[2069:-6]\n",
    "unique_ribos=[]\n",
    "\n",
    "#loop through each sequence (step of 2)\n",
    "for linenr in range(1,len(db8_ribos)+1,2):\n",
    "    seq=db8_ribos[linenr]\n",
    "    #if the sequence is NOT duplicated (eg in database 8 as well as previous versions)\n",
    "    if seq not in rnarobo[:2070]:\n",
    "        #append the correct identifier\n",
    "        unique_ribos.append(db8_ribos[linenr-1])\n",
    "        #and the sequence\n",
    "        unique_ribos.append(seq)"
   ]
  },
  {
   "cell_type": "code",
   "execution_count": 15,
   "metadata": {},
   "outputs": [],
   "source": [
    "dereplicated=rnarobo[:2069]+unique_ribos+rnarobo[-6:]"
   ]
  },
  {
   "cell_type": "code",
   "execution_count": 16,
   "metadata": {},
   "outputs": [],
   "source": [
    "rnanew_=open(\"rnarobo_result_dereplicated.txt\",\"w+\")\n",
    "rnanew_.writelines(\"\".join(dereplicated))\n",
    "rnanew_.close()"
   ]
  }
 ],
 "metadata": {
  "kernelspec": {
   "display_name": "Python 3",
   "language": "python",
   "name": "python3"
  },
  "language_info": {
   "codemirror_mode": {
    "name": "ipython",
    "version": 3
   },
   "file_extension": ".py",
   "mimetype": "text/x-python",
   "name": "python",
   "nbconvert_exporter": "python",
   "pygments_lexer": "ipython3",
   "version": "3.7.6"
  }
 },
 "nbformat": 4,
 "nbformat_minor": 4
}
