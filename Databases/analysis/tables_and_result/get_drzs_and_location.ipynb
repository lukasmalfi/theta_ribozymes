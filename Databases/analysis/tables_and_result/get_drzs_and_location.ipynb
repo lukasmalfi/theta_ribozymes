{
 "cells": [
  {
   "cell_type": "code",
   "execution_count": null,
   "metadata": {},
   "outputs": [],
   "source": [
    "#Extracting the delta ribozyme sequences/hits from the databases\n",
    "#we might have some false positives here!"
   ]
  },
  {
   "cell_type": "code",
   "execution_count": null,
   "metadata": {},
   "outputs": [],
   "source": [
    "#import libraries\n",
    "import numpy as np\n",
    "import pandas as pd\n",
    "from collections import Counter\n",
    "\n",
    "import subprocess\n",
    "\n",
    "#open all the ribozyme hits obtained with the first motif (fig2b (i))\n",
    "\n",
    "rnarobo_=open(\"../falsepositive/first/C/comb_rnarobo_result_precise.txt\")\n",
    "rnarobo=rnarobo_.readlines()\n",
    "rnarobo_.close()"
   ]
  },
  {
   "cell_type": "markdown",
   "metadata": {},
   "source": [
    "rnarobo[11:-6] gives us the part we need"
   ]
  },
  {
   "cell_type": "code",
   "execution_count": null,
   "metadata": {},
   "outputs": [],
   "source": [
    "# Create an empty DataFrame with columns \"ID\", \"rnarobo_start\", \"rnarobo_end\", and \"rnarobo_seq\"\n",
    "delta_rzs=pd.DataFrame(columns=[\"ID\",\"rnarobo_start\",\"rnarobo_end\",\"rnarobo_seq\"])\n",
    "\n",
    "# Create empty lists to store the values for each column in the \"delta_rzs\" DataFrame\n",
    "idi=[]\n",
    "start=[]\n",
    "end=[]\n",
    "seq=[]\n",
    "\n",
    "# Loop through the lines in the \"rnarobo\" list from index 11 to the 6th element from the end\n",
    "for line in rnarobo[11:-6]:\n",
    "    # If the first character of the current line is not \"|\"\n",
    "    if line[0]!=\"|\":\n",
    "        # Replace any \".\" characters in the current line with \"_\" characters\n",
    "        line=line.replace(\".\",\"_\")\n",
    "        # Split the current line at whitespace characters and append the first, second, and third parts to the \"start\", \"end\", and \"idi\" lists, respectively\n",
    "        line=line.strip().split()\n",
    "        start.append(int(line[0]))\n",
    "        end.append(int(line[1]))\n",
    "        idi.append(line[2])\n",
    "    else:\n",
    "        # If the first character of the current line is \"|\", strip the line and append it to the \"seq\" list\n",
    "        seq.append(line.strip())\n",
    "\n",
    "# Set the \"ID\", \"rnarobo_start\", \"rnarobo_end\", and \"rnarobo_seq\" columns of the \"delta_rzs\" DataFrame to the values in the \"idi\", \"start\", \"end\", and \"seq\" lists, respectively\n",
    "delta_rzs[\"ID\"]=idi\n",
    "delta_rzs[\"rnarobo_start\"]=start\n",
    "delta_rzs[\"rnarobo_end\"]=end\n",
    "delta_rzs[\"rnarobo_seq\"]=seq\n",
    "\n",
    "# Save the \"delta_rzs\" DataFrame to a TSV file named \"delta_ribozymes_databases.csv\"\n",
    "df1str=delta_rzs.to_csv(sep=\"\\t\")\n",
    "f= open(\"delta_ribozymes_databases.csv\",\"w+\")\n",
    "f.write(df1str)\n",
    "f.close()"
   ]
  }
 ],
 "metadata": {
  "kernelspec": {
   "display_name": "Python 3",
   "language": "python",
   "name": "python3"
  },
  "language_info": {
   "codemirror_mode": {
    "name": "ipython",
    "version": 3
   },
   "file_extension": ".py",
   "mimetype": "text/x-python",
   "name": "python",
   "nbconvert_exporter": "python",
   "pygments_lexer": "ipython3",
   "version": "3.7.6"
  }
 },
 "nbformat": 4,
 "nbformat_minor": 4
}
