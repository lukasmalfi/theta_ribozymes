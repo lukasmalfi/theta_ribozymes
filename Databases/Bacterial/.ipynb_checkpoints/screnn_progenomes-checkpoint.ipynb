{
 "cells": [
  {
   "cell_type": "code",
   "execution_count": 1,
   "metadata": {},
   "outputs": [],
   "source": [
    "import subprocess\n",
    "import pandas as pd\n",
    "import numpy as np"
   ]
  },
  {
   "cell_type": "code",
   "execution_count": 2,
   "metadata": {},
   "outputs": [
    {
     "data": {
      "text/plain": [
       "CompletedProcess(args='/mnt/mnemo6/lukas/anaconda3/envs/sar3/bin/tRNAscan-SE -G combined_all_viral_sequences_v2.fasta -o combined_trna_scan_v2.txt', returncode=0)"
      ]
     },
     "execution_count": 2,
     "metadata": {},
     "output_type": "execute_result"
    }
   ],
   "source": [
    "\n",
    "complete_fasta=\"\"\n",
    "filepath=\"progenomes_rnarobo_res.txt\"\n",
    "filepath_fasta=\"progenomes3.contigs.representatives.fasta\"\n",
    "f=open(filepath)\n",
    "f_l=f.readlines()\n",
    "#going thorugh the results in one file: check for start of found seq (\"  \"), then append the start position, end position, sequencename (important!) and sequence itself\n",
    "counter=0\n",
    "#start=[]\n",
    "#end=[]\n",
    "seqnam=[]\n",
    "sequence=[]\n",
    "#go trhough each line of rnarobo output\n",
    "for line in f_l[11:-6]:\n",
    "    #if len(line)==0:\n",
    "       # break\n",
    "    if not line[0]==\"|\":\n",
    "        line=line.strip().split()\n",
    "        #start.append(line[0])\n",
    "        #end.append(line[1])\n",
    "        seqnam.append(line[2])\n",
    "        counter=1\n",
    "    #add the sequence of the ribozyme    \n",
    "    elif counter==1:\n",
    "        line=line.strip()\n",
    "        sequence.append(line)\n",
    "        counter=0\n",
    "\n",
    "#all reads where a ribozyme was found        \n",
    "unique_seqnam=set(seqnam)\n",
    "#look for all the \n",
    "for seqname in unique_seqnam:\n",
    "    inp= \"sed -n '/\"+seqname+\"/,/>/p' \"+filepath_fasta\n",
    "    l=subprocess.run(inp,shell=True,capture_output=True,text=True)\n",
    "    complete_fasta+=l.stdout\n",
    "    #print(l.stdout)\n",
    "com_fas=complete_fasta.split(\"\\n\")\n",
    "fasta_corr=[]\n",
    "checker=0\n",
    "fasta_part=\"\"\n",
    "#to -1 because last one is empty \n",
    "for line in com_fas:\n",
    "\n",
    "    if line==\"\": \n",
    "        continue\n",
    "\n",
    "    elif line[0]==\">\":\n",
    "\n",
    "\n",
    "        if checker==0:\n",
    "            fasta_corr.append(fasta_part)\n",
    "            fasta_part=\"\"\n",
    "            line=line.split()\n",
    "            fasta_corr.append(line[0])\n",
    "            checker=1\n",
    "        else:\n",
    "            checker=0\n",
    "\n",
    "    else:\n",
    "        fasta_part+=line.strip()\n",
    "\n",
    "\n",
    "fasta_corr=fasta_corr[1:]\n",
    "\n",
    "fast_seq=\"\\n\".join(fasta_corr)\n",
    "\n",
    "fast_seq=fast_seq.replace(\".\",\"_\")\n",
    "\n",
    "\n",
    "f= open(\"combined_all_viral_sequences_v2.fasta\",\"w+\")\n",
    "f.write(fast_seq)\n",
    "f.close()    \n",
    "\n",
    "\n",
    "inp2=\"/mnt/mnemo6/lukas/anaconda3/envs/sar3/bin/tRNAscan-SE -G combined_all_viral_sequences_v2.fasta -o combined_trna_scan_v2.txt\"\n",
    "subprocess.run(inp2, shell=True)"
   ]
  },
  {
   "cell_type": "code",
   "execution_count": 3,
   "metadata": {},
   "outputs": [],
   "source": [
    "rnarobo_=open(\"progenomes_rnarobo_res.txt\")\n",
    "rnarobo=rnarobo_.readlines()\n",
    "rnarobo_.close()"
   ]
  },
  {
   "cell_type": "code",
   "execution_count": 4,
   "metadata": {},
   "outputs": [],
   "source": [
    "trna_=open(\"combined_trna_scan_v2.txt\")\n",
    "trna=trna_.readlines()\n",
    "trna_.close()"
   ]
  },
  {
   "cell_type": "code",
   "execution_count": 66,
   "metadata": {},
   "outputs": [],
   "source": [
    "#rnarobo[11:-6] gives us the part we need"
   ]
  },
  {
   "cell_type": "code",
   "execution_count": 74,
   "metadata": {},
   "outputs": [],
   "source": [
    "#trna[3:] gives us the part we need"
   ]
  },
  {
   "cell_type": "code",
   "execution_count": 5,
   "metadata": {},
   "outputs": [],
   "source": [
    "dicti={}\n",
    "for line in trna[3:]:\n",
    "    #create a dictionary with seq name as key and the starting position as value\n",
    "        line=line.strip().split()\n",
    "        if line[0] in dicti:\n",
    "            dicti[line[0]].append(int(line[3]))\n",
    "        else:\n",
    "            dicti[line[0]]=[int(line[3])]\n",
    "            \n",
    "        \n",
    "        "
   ]
  },
  {
   "cell_type": "code",
   "execution_count": 6,
   "metadata": {},
   "outputs": [],
   "source": [
    "dicti_r={}\n",
    "for line in rnarobo[11:-6]:\n",
    "    if line[0]!=\"|\":\n",
    "        line=line.replace(\".\",\"_\")\n",
    "        line=line.strip().split()\n",
    "        if line[2] in dicti_r:\n",
    "            dicti_r[line[2]].append(int(line[0]))\n",
    "        else:\n",
    "            dicti_r[line[2]]=[int(line[0])]\n",
    "        "
   ]
  },
  {
   "cell_type": "code",
   "execution_count": 15,
   "metadata": {},
   "outputs": [],
   "source": [
    "matching=[]\n",
    "for key in dicti_r:\n",
    "    if key in dicti:\n",
    "        for value in dicti_r[key]:\n",
    "            for value2 in dicti[key]:\n",
    "                if value-value2 in range(-4,4):\n",
    "                    matching.append([key,value,value2])"
   ]
  },
  {
   "cell_type": "code",
   "execution_count": 16,
   "metadata": {},
   "outputs": [],
   "source": [
    "#make sure everything is according to plan and we have no duplicates etc.\n",
    "newm=[]\n",
    "for mat in matching:\n",
    "    if mat not in newm:\n",
    "        newm.append(mat)"
   ]
  },
  {
   "cell_type": "code",
   "execution_count": 17,
   "metadata": {},
   "outputs": [],
   "source": [
    "lets_do_this=pd.DataFrame(columns=[\"ID\",\"trna_nr\",\"trna_start\",\"trna_end\",\"trna_type\",\"codon\",\"ins_start\",\"ins_end\",\"trna_confidence\",\"psuedo\",\"rnarobo_start\",\"rnarobo_end\",\"rnarobo_seq\"])\n",
    "check=0\n",
    "duplicates=[]\n",
    "for nr in range(len(newm)):\n",
    "    match=newm[nr]\n",
    "    lin_df=\"\"\n",
    "    for line in trna[3:]:\n",
    "    #create a dictionary with seq name as key and the starting position as value\n",
    "        line=line.strip().split()\n",
    "        \n",
    "        if match[0]==line[0]:\n",
    "            if len(lin_df.split())==0:\n",
    "                if str(match[2])==line[3]:\n",
    "                    #print(line)\n",
    "                    lin_df+=\" \".join(line)+\" \"\n",
    "                    if lin_df[-2]!=\"o\":\n",
    "                        lin_df+=\"NA \"\n",
    "            else: \n",
    "                duplicates.append(line)\n",
    "    for line in rnarobo[11:-6]:\n",
    "        line=line.replace(\".\",\"_\")\n",
    "        line=line.strip().split()\n",
    "        if len(lin_df.split())<13:\n",
    "\n",
    "            if check==1:\n",
    "                #if len(lin_df.split())<13:\n",
    "                    lin_df+=str(line[0])\n",
    "                    check=0\n",
    "                #else:\n",
    "                        #duplicates.append(line)\n",
    "\n",
    "                #check=0\n",
    "             #####FIX 2: Important here: we did this to make sure that we are actually matching the right ribozyme here...\n",
    "            if len(line)>1:\n",
    "                #here we made the mistake: not checking the actual ID but only starting position\n",
    "                if match[0]==line[2]:\n",
    "                    if str(match[1])==line[0]:\n",
    "                    #if len(lin_df.split())<13:\n",
    "                        lin_df+=\" \".join(line[:2])\n",
    "                        lin_df+=\" \"\n",
    "                        check=1\n",
    "            #else:\n",
    "                #duplicates.append(line)\n",
    "                #check=0\n",
    "    lin_f=lin_df.split()\n",
    "    lets_do_this.loc[nr]=np.array(lin_f)\n",
    "    #lets_do_this.iloc[nr,:8]=lin_df[0]\n",
    "    #lets_do_this.iloc[nr,8:-1]=lin_df[1]\n",
    "    #lets_do_this.iloc[nr,-1]=lin_df[2]"
   ]
  },
  {
   "cell_type": "code",
   "execution_count": 18,
   "metadata": {},
   "outputs": [
    {
     "data": {
      "text/html": [
       "<div>\n",
       "<style scoped>\n",
       "    .dataframe tbody tr th:only-of-type {\n",
       "        vertical-align: middle;\n",
       "    }\n",
       "\n",
       "    .dataframe tbody tr th {\n",
       "        vertical-align: top;\n",
       "    }\n",
       "\n",
       "    .dataframe thead th {\n",
       "        text-align: right;\n",
       "    }\n",
       "</style>\n",
       "<table border=\"1\" class=\"dataframe\">\n",
       "  <thead>\n",
       "    <tr style=\"text-align: right;\">\n",
       "      <th></th>\n",
       "      <th>ID</th>\n",
       "      <th>trna_nr</th>\n",
       "      <th>trna_start</th>\n",
       "      <th>trna_end</th>\n",
       "      <th>trna_type</th>\n",
       "      <th>codon</th>\n",
       "      <th>ins_start</th>\n",
       "      <th>ins_end</th>\n",
       "      <th>trna_confidence</th>\n",
       "      <th>psuedo</th>\n",
       "      <th>rnarobo_start</th>\n",
       "      <th>rnarobo_end</th>\n",
       "      <th>rnarobo_seq</th>\n",
       "    </tr>\n",
       "  </thead>\n",
       "  <tbody>\n",
       "  </tbody>\n",
       "</table>\n",
       "</div>"
      ],
      "text/plain": [
       "Empty DataFrame\n",
       "Columns: [ID, trna_nr, trna_start, trna_end, trna_type, codon, ins_start, ins_end, trna_confidence, psuedo, rnarobo_start, rnarobo_end, rnarobo_seq]\n",
       "Index: []"
      ]
     },
     "execution_count": 18,
     "metadata": {},
     "output_type": "execute_result"
    }
   ],
   "source": [
    "lets_do_this"
   ]
  }
 ],
 "metadata": {
  "kernelspec": {
   "display_name": "Python 3",
   "language": "python",
   "name": "python3"
  },
  "language_info": {
   "codemirror_mode": {
    "name": "ipython",
    "version": 3
   },
   "file_extension": ".py",
   "mimetype": "text/x-python",
   "name": "python",
   "nbconvert_exporter": "python",
   "pygments_lexer": "ipython3",
   "version": "3.7.6"
  }
 },
 "nbformat": 4,
 "nbformat_minor": 4
}
