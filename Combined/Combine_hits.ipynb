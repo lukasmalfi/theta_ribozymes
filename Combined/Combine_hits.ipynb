{
 "cells": [
  {
   "cell_type": "code",
   "execution_count": null,
   "metadata": {},
   "outputs": [],
   "source": [
    "#lets combine the hits from metagenomes with the results from databases\n",
    "import pandas as pd\n",
    "from collections import Counter\n",
    "\n",
    "database_hits=pd.read_csv(\"../Databases/Taxonomy/host_info/databases_with_tax.tsv\",sep=\"\\t\")\n",
    "wgs_hits=pd.read_csv(\"../Metagenomic/tables_and_results/WGS_ribo_trna.csv\",sep=\"\\t\")"
   ]
  },
  {
   "cell_type": "code",
   "execution_count": null,
   "metadata": {},
   "outputs": [
    {
     "data": {
      "text/plain": [
       "126"
      ]
     },
     "execution_count": 4,
     "metadata": {},
     "output_type": "execute_result"
    }
   ],
   "source": [
    "# Count the number of unique values in the \"ribozyme_control\" column of the database_hits DataFrame\n",
    "len(database_hits[\"ribozyme_control\"].unique())\n",
    "\n",
    "# Count the number of unique values in the \"rnarobo_seq\" column of the database_hits DataFrame\n",
    "len(database_hits[\"rnarobo_seq\"].unique())\n",
    "\n",
    "# Count the number of unique values in the \"trnaseq\" column of the wgs_hits DataFrame\n",
    "len(wgs_hits[\"trnaseq\"].unique())\n",
    "\n",
    "# Count the number of unique values in the \"ribozyme_control\" column of the wgs_hits DataFrame\n",
    "len(wgs_hits[\"ribozyme_control\"].unique())\n",
    "\n",
    "# Count the number of unique values in the \"rnarobo_seq\" column of the wgs_hits DataFrame\n",
    "len(wgs_hits[\"rnarobo_seq\"].unique())\n",
    "\n",
    "# Concatenate the database_hits and wgs_hits DataFrames into a single DataFrame called \"merged\"\n",
    "merged=pd.concat([database_hits,wgs_hits])"
   ]
  },
  {
   "cell_type": "code",
   "execution_count": null,
   "metadata": {},
   "outputs": [
    {
     "data": {
      "text/plain": [
       "5810"
      ]
     },
     "execution_count": 12,
     "metadata": {},
     "output_type": "execute_result"
    }
   ],
   "source": [
    "# Count the number of unique values in the \"trnaseq\" column of the merged DataFrame\n",
    "len(merged[\"trnaseq\"].unique())\n",
    "\n",
    "# Count the number of unique values in the \"ribozyme_control\" column of the merged DataFrame\n",
    "len(merged[\"ribozyme_control\"].unique())\n",
    "\n",
    "# Convert the merged DataFrame to a CSV string and write it to a file\n",
    "df1str=merged.to_csv(header=True,sep=\",\")\n",
    "f= open(\"final_combined_hits_sept.csv\",\"w+\")\n",
    "f.write(df1str)\n",
    "f.close()\n",
    "\n",
    "# Read the CSV file back into a pandas DataFrame called \"fin\"\n",
    "fin=pd.read_csv(\"final_combined_hits_sept.csv\",sep=\",\",index_col=0)"
   ]
  },
  {
   "cell_type": "code",
   "execution_count": 9,
   "metadata": {},
   "outputs": [
    {
     "data": {
      "text/plain": [
       "Met      4970\n",
       "Sup      2643\n",
       "Leu      1703\n",
       "Gln       689\n",
       "Undet     654\n",
       "Ser       584\n",
       "Pro       464\n",
       "Glu       351\n",
       "Lys       220\n",
       "Asn       172\n",
       "Thr       165\n",
       "Arg       142\n",
       "Trp       117\n",
       "Ala        91\n",
       "Val        77\n",
       "Ile        54\n",
       "Asp        45\n",
       "Cys        45\n",
       "His        26\n",
       "Tyr        23\n",
       "Gly        14\n",
       "Phe         8\n",
       "Name: trna_type, dtype: int64"
      ]
     },
     "execution_count": 9,
     "metadata": {},
     "output_type": "execute_result"
    }
   ],
   "source": [
    "#the type of tRNAs associated with the ribozyme\n",
    "fin[\"trna_type\"].value_counts()"
   ]
  },
  {
   "cell_type": "code",
   "execution_count": null,
   "metadata": {},
   "outputs": [],
   "source": [
    "# Reset the index of the \"f\" DataFrame and add a new column called \"ribo_nr\" with empty strings\n",
    "f1=f.reset_index(drop=True)\n",
    "f1[\"ribo_nr\"]=\"\"\n",
    "\n",
    "# Assign a number for each unique ribozyme\n",
    "ribo_nr=1\n",
    "for rib in riboz.index:\n",
    "    # Get the indices of the rows in the \"f1\" DataFrame where the \"ribozyme_control\" column matches the current ribozyme\n",
    "    indi=f1[f1.loc[:,\"ribozyme_control\"]==rib].index\n",
    "    # Assign the current ribozyme number to the \"ribo_nr\" column of the matching rows\n",
    "    f1.iloc[indi,-1]=ribo_nr\n",
    "    ribo_nr+=1\n",
    "\n",
    "# Count the number of occurrences of each unique tRNA sequence in the \"f1\" DataFrame and save the results to a pandas Series called \"trnaz\"\n",
    "trnaz=f1[\"trnaseq\"].value_counts()\n",
    "\n",
    "# Add a new column called \"trnanr\" with empty strings to the \"f1\" DataFrame\n",
    "f1[\"trnanr\"]=\"\"\n",
    "\n",
    "# Assign a number for each unique tRNA\n",
    "trna_nr=1\n",
    "for tr in trnaz.index:\n",
    "    # Get the indices of the rows in the \"f1\" DataFrame where the \"trnaseq\" column matches the current tRNA\n",
    "    indi=f1[f1.loc[:,\"trnaseq\"]==tr].index\n",
    "    # Assign the current tRNA number to the \"trnanr\" column of the matching rows\n",
    "    f1.iloc[indi,-1]=trna_nr\n",
    "    trna_nr+=1\n",
    "\n",
    "# Sort the \"f1\" DataFrame by ribozyme number, tRNA type, and tRNA number\n",
    "f1.sort_values(by=[\"ribo_nr\",\"trna_type\",\"trnanr\"],inplace=True)\n",
    "\n",
    "# Reset the index of the \"f1\" DataFrame\n",
    "f1.reset_index(inplace=True, drop=True)\n",
    "\n",
    "# Convert the \"f1\" DataFrame to a CSV string and write it to a file\n",
    "df1str=f1.to_csv(header=True,sep=\",\",index=None)\n",
    "f= open(\"final_combined_table_sorted_oct.csv\",\"w+\")\n",
    "f.write(df1str)\n",
    "f.close()"
   ]
  },
  {
   "cell_type": "code",
   "execution_count": null,
   "metadata": {},
   "outputs": [],
   "source": [
    "# Open the \"rnarobo_result_dereplicated.txt\" file and read its contents into a list called \"metal\"\n",
    "metaghits=open(\"../Databases/analysis/tables_and_result/rnarobo_result_dereplicated.txt\")\n",
    "metal=metaghits.readlines()\n",
    "metaghits.close()\n",
    "\n",
    "# Read the \"all_WGS_ribos.csv\" file into a pandas DataFrame called \"dbhits\"\n",
    "dbhits=pd.read_csv(\"../Metagenomic/tables_and_results/all_WGS_ribos.csv\")\n",
    "\n",
    "# Remove any newline characters from the \"rnarobo_seq\" column of the \"dbhits\" DataFrame\n",
    "dbhits[\"rnarobo_seq\"]=dbhits[\"rnarobo_seq\"].str.replace(\"\\n\",\"\", regex=True)\n",
    "\n",
    "# Initialize an empty list called \"sequenc\"\n",
    "sequenc=[]\n",
    "\n",
    "# Loop through each line of the \"rnarobo_result_dereplicated.txt\" file, skipping the header and footer\n",
    "for linea in metal[11:-6]:\n",
    "    # If the current line contains ribozyme information\n",
    "    if linea[0]==\"|\":\n",
    "        # Remove any leading or trailing whitespace from the line and append it to the \"sequenc\" list\n",
    "        line=linea.strip()\n",
    "        sequenc.append(line)\n",
    "\n",
    "# Create a new pandas DataFrame called \"allribos\" with a single column called \"rnarobo_seq\" and populate it with the ribozyme sequences from the \"sequenc\" list\n",
    "allribos=pd.DataFrame(columns=[\"rnarobo_seq\"])\n",
    "allribos[\"rnarobo_seq\"]=sequenc\n",
    "\n",
    "# Convert the \"allribos\" DataFrame to a CSV string and write it to a file\n",
    "df1str=allribos.to_csv(sep=\"\\t\",index=False)\n",
    "f= open(\"../Databases/analysis/tables_and_result/all_database_ribos.csv\",\"w+\")\n",
    "f.write(df1str)\n",
    "f.close()\n",
    "\n",
    "# Concatenate the \"dbhits\" and \"allribos\" DataFrames into a single DataFrame called \"merged_thetas\"\n",
    "merged_thetas=dbhits.append(allribos, ignore_index=True)\n",
    "\n",
    "# Count the number of occurrences of each unique ribozyme sequence in the \"merged_thetas\" DataFrame and save the results to a pandas Series called \"all_uni_thetas\"\n",
    "all_uni_thetas=merged_thetas[\"rnarobo_seq\"].value_counts()\n",
    "\n",
    "# Get the unique ribozyme sequences from the \"allribos\" DataFrame and save them to a list called \"trna_thet\"\n",
    "trna_thet=allribos[\"rnarobo_seq\"].unique()\n",
    "\n",
    "# Initialize empty lists called \"tht\", \"occu\", and \"nbr\"\n",
    "tht=[]\n",
    "occu=[]\n",
    "nbr=[]\n",
    "\n",
    "# Loop through each unique ribozyme sequence in the \"all_uni_thetas\" Series\n",
    "for nr, se in enumerate(all_uni_thetas.index):\n",
    "    # If the current ribozyme sequence is not associated with a tRNA\n",
    "    if se not in trna_thet:\n",
    "        # Append the ribozyme sequence, number of occurrences, and ribozyme number to the \"tht\", \"occu\", and \"nbr\" lists, respectively\n",
    "        tht.append(se)\n",
    "        occu.append(all_uni_thetas[nr])\n",
    "        nbr.append(ribo_nr)\n",
    "        ribo_nr+=1\n",
    "\n",
    "# Create a new pandas DataFrame called \"notrna\" with columns for the ribozyme sequence, number of occurrences, and ribozyme number, and populate it with the data from the \"tht\", \"occu\", and \"nbr\" lists\n",
    "notrna=pd.DataFrame(columns=[\"rnarobo_seq\",\"occurrences\",\"ribo_nr\"])\n",
    "notrna[\"rnarobo_seq\"]=tht\n",
    "notrna[\"occurrences\"]=occu\n",
    "notrna[\"ribo_nr\"]=nbr\n",
    "\n",
    "# Convert the \"notrna\" DataFrame to a CSV string and write it to a file\n",
    "df1str=notrna.to_csv(sep=\"\\t\",index=False)\n",
    "f= open(\"non_trna_asso_thetas.csv\",\"w+\")\n",
    "f.write(df1str)\n",
    "f.close()"
   ]
  }
 ],
 "metadata": {
  "kernelspec": {
   "display_name": "Python 3",
   "language": "python",
   "name": "python3"
  },
  "language_info": {
   "codemirror_mode": {
    "name": "ipython",
    "version": 3
   },
   "file_extension": ".py",
   "mimetype": "text/x-python",
   "name": "python",
   "nbconvert_exporter": "python",
   "pygments_lexer": "ipython3",
   "version": "3.7.6"
  }
 },
 "nbformat": 4,
 "nbformat_minor": 4
}
